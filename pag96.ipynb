{
 "cells": [
  {
   "cell_type": "code",
   "execution_count": null,
   "metadata": {},
   "outputs": [],
   "source": [
    "import numpy as np\n",
    "import tensorflow\n",
    "import keras"
   ]
  },
  {
   "cell_type": "code",
   "execution_count": null,
   "metadata": {},
   "outputs": [],
   "source": [
    "r = np.array([[0,0,0,0,0,0,0],[0,-1,1,1,1,-1,0],[0,1,-1,1,1,-1,0],[0,0,-1,1,1,0,0],[0,-1,1,1,1,0,0],[0,1,1,-1,1,-1,0],[0,0,0,0,0,0,0]])\n",
    "g = np.array([[0,0,0,0,0,0,0],[0,1,-1,-1,1,-1,0],[0,1,-1,0,1,-1,0],[0,1,0,0,-1,0,0],[0,-1,1,1,1,1,0],[0,-1,1,0,-1,-1,0],[0,0,0,0,0,0,0]])\n",
    "b = np.array([[0,0,0,0,0,0,0],[0,1,-1,-1,0,-1,0],[0,1,-1,0,1,0,0],[0,1,0,0,-1,0,0],[0,0,1,0,0,1,0],[0,-1,-1,1,-1,0,0],[0,0,0,0,0,0,0]])"
   ]
  },
  {
   "cell_type": "code",
   "execution_count": 11,
   "metadata": {},
   "outputs": [],
   "source": [
    "r_filter = np.array([[0,0,0],[0,-1,1],[0,1,-1]])\n",
    "g_filter = np.array([[1,0,0],[0,0,-1],[0,1,1]])\n",
    "b_filter = np.array([[1,1,1],[1,1,1],[0,1,-1]])"
   ]
  },
  {
   "cell_type": "code",
   "execution_count": null,
   "metadata": {},
   "outputs": [],
   "source": [
    "r_filter = np.array([[1,0,0],[0,1,1],[1,-1,-1]])\n",
    "g_filter = np.array([[1,1,0],[1,1,-1],[1,-1,-1]])\n",
    "b_filter = np.array([[0,0,0],[0,0,0],[0,1,0]])"
   ]
  },
  {
   "cell_type": "code",
   "execution_count": 12,
   "metadata": {},
   "outputs": [],
   "source": [
    "def convolution(input, filter, stride):\n",
    "    map_filter = np.zeros(shape=(3,3),dtype=np.int8)\n",
    "    \n",
    "    for color in range(len(input)):\n",
    "        step_i = 0\n",
    "        for i in range(len(filter)):\n",
    "            step_j = 0\n",
    "            for j in range(len(filter)):\n",
    "                aux = np.array(input[color][i+step_i:i+step_i+3,j+step_j:j+step_j+3])\n",
    "                map_filter[i][j] += np.sum(aux*filter[color])\n",
    "                step_j+=1\n",
    "            step_i+=1\n",
    "            \n",
    "    return map_filter\n",
    "                \n",
    "           \n"
   ]
  },
  {
   "cell_type": "code",
   "execution_count": 13,
   "metadata": {},
   "outputs": [
    {
     "name": "stdout",
     "output_type": "stream",
     "text": [
      "[[ 7 -3 -2]\n",
      " [-3  1  3]\n",
      " [-2  4  2]]\n"
     ]
    }
   ],
   "source": [
    "input = np.array([r,g,b])\n",
    "filter = np.array([r_filter,g_filter,b_filter])\n",
    "print(convolution(input,filter,2))"
   ]
  },
  {
   "cell_type": "code",
   "execution_count": null,
   "metadata": {},
   "outputs": [],
   "source": [
    "result_r = np.dot(r_slice,r_filter)\n",
    "print(result_r)"
   ]
  },
  {
   "cell_type": "code",
   "execution_count": null,
   "metadata": {},
   "outputs": [],
   "source": []
  },
  {
   "cell_type": "code",
   "execution_count": null,
   "metadata": {},
   "outputs": [],
   "source": [
    "result_b = np.dot(b_slice,b_filter)\n",
    "print(result_b)"
   ]
  },
  {
   "cell_type": "code",
   "execution_count": null,
   "metadata": {},
   "outputs": [],
   "source": [
    "result_g = np.dot(g_slice,g_filter)\n",
    "print(result_g)"
   ]
  },
  {
   "cell_type": "code",
   "execution_count": null,
   "metadata": {},
   "outputs": [],
   "source": [
    "layer = [r_slice,g_slice,b_slice]\n",
    "filter = [r_filter,g_filter,b_filter]\n",
    "print(layer)"
   ]
  },
  {
   "cell_type": "code",
   "execution_count": 31,
   "metadata": {},
   "outputs": [
    {
     "name": "stdout",
     "output_type": "stream",
     "text": [
      "[[0 0 0]\n",
      " [0 0 0]\n",
      " [0 0 0]]\n"
     ]
    }
   ],
   "source": [
    "result = np.dot(result_r,result_g)\n",
    "print(result)"
   ]
  },
  {
   "cell_type": "code",
   "execution_count": 37,
   "metadata": {},
   "outputs": [
    {
     "name": "stdout",
     "output_type": "stream",
     "text": [
      "3\n",
      "3\n",
      "3\n"
     ]
    }
   ],
   "source": []
  },
  {
   "cell_type": "code",
   "execution_count": 57,
   "metadata": {
    "scrolled": true
   },
   "outputs": [
    {
     "data": {
      "text/plain": [
       "array([[ 0,  0,  0],\n",
       "       [ 0,  0, -1],\n",
       "       [ 0,  1, -1]])"
      ]
     },
     "execution_count": 57,
     "metadata": {},
     "output_type": "execute_result"
    }
   ],
   "source": [
    "x= r_filter*g_filter\n",
    "x"
   ]
  },
  {
   "cell_type": "code",
   "execution_count": 108,
   "metadata": {},
   "outputs": [
    {
     "data": {
      "text/plain": [
       "array([[-1]])"
      ]
     },
     "execution_count": 108,
     "metadata": {},
     "output_type": "execute_result"
    }
   ],
   "source": [
    "r[2:3,2:3]"
   ]
  },
  {
   "cell_type": "code",
   "execution_count": 65,
   "metadata": {
    "scrolled": true
   },
   "outputs": [
    {
     "name": "stdout",
     "output_type": "stream",
     "text": [
      "[ 0  0 -1]\n"
     ]
    }
   ],
   "source": [
    "print(r[3][0:3])"
   ]
  },
  {
   "cell_type": "code",
   "execution_count": null,
   "metadata": {},
   "outputs": [],
   "source": []
  },
  {
   "cell_type": "code",
   "execution_count": null,
   "metadata": {},
   "outputs": [],
   "source": []
  }
 ],
 "metadata": {
  "kernelspec": {
   "display_name": "Python 3",
   "language": "python",
   "name": "python3"
  },
  "language_info": {
   "codemirror_mode": {
    "name": "ipython",
    "version": 3
   },
   "file_extension": ".py",
   "mimetype": "text/x-python",
   "name": "python",
   "nbconvert_exporter": "python",
   "pygments_lexer": "ipython3",
   "version": "3.6.4"
  }
 },
 "nbformat": 4,
 "nbformat_minor": 2
}
