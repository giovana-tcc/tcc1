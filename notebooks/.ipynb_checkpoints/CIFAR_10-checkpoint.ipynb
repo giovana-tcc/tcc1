{
 "cells": [
  {
   "cell_type": "markdown",
   "metadata": {
    "colab_type": "text",
    "id": "an8mmeNAkhsq"
   },
   "source": [
    "# Jupyter Notebook para geração dos gráficos das funçãoes de ativação\n",
    "### Figura da fundamentação teórica sobre as Redes Neurais Artificiais\n"
   ]
  },
  {
   "cell_type": "code",
   "execution_count": 1,
   "metadata": {
    "colab": {
     "autoexec": {
      "startup": false,
      "wait_interval": 0
     },
     "base_uri": "https://localhost:8080/",
     "height": 34
    },
    "colab_type": "code",
    "executionInfo": {
     "elapsed": 8189,
     "status": "ok",
     "timestamp": 1523295811853,
     "user": {
      "displayName": "Giovana de Lucca",
      "photoUrl": "//lh6.googleusercontent.com/-_T10o8bYi1k/AAAAAAAAAAI/AAAAAAAAAws/4hbxiWfRsIU/s50-c-k-no/photo.jpg",
      "userId": "117997264236604396640"
     },
     "user_tz": 240
    },
    "id": "O8pxJ42rnPUO",
    "outputId": "185e3aed-3378-46b1-a663-99d8406df7ac"
   },
   "outputs": [
    {
     "name": "stderr",
     "output_type": "stream",
     "text": [
      "Using TensorFlow backend.\n"
     ]
    }
   ],
   "source": [
    "import keras\n",
    "from keras.models import Sequential\n",
    "from keras.layers import Conv2D, MaxPooling2D, Flatten, Dense"
   ]
  },
  {
   "cell_type": "markdown",
   "metadata": {
    "colab_type": "text",
    "id": "ND8sFHcNkCBP"
   },
   "source": [
    "### **Dataset CIFAR-10**\n",
    "\n",
    "Importação do dataset\n",
    "\n",
    "Separação para treinamento e testes\n"
   ]
  },
  {
   "cell_type": "code",
   "execution_count": 2,
   "metadata": {
    "colab": {
     "autoexec": {
      "startup": false,
      "wait_interval": 0
     },
     "base_uri": "https://localhost:8080/",
     "height": 51
    },
    "colab_type": "code",
    "executionInfo": {
     "elapsed": 33208,
     "status": "ok",
     "timestamp": 1523295849527,
     "user": {
      "displayName": "Giovana de Lucca",
      "photoUrl": "//lh6.googleusercontent.com/-_T10o8bYi1k/AAAAAAAAAAI/AAAAAAAAAws/4hbxiWfRsIU/s50-c-k-no/photo.jpg",
      "userId": "117997264236604396640"
     },
     "user_tz": 240
    },
    "id": "WTICF6IbvzEn",
    "outputId": "872fd9a0-9a8f-4be9-bdcd-76327ba5f942"
   },
   "outputs": [
    {
     "name": "stdout",
     "output_type": "stream",
     "text": [
      "Downloading data from https://www.cs.toronto.edu/~kriz/cifar-10-python.tar.gz\n",
      "170500096/170498071 [==============================] - 30s 0us/step\n"
     ]
    }
   ],
   "source": [
    "from keras.datasets import cifar10\n",
    "(x_train, y_train), (x_test, y_test) = cifar10.load_data()"
   ]
  },
  {
   "cell_type": "markdown",
   "metadata": {
    "colab_type": "text",
    "id": "wqHCFAR6lHQy"
   },
   "source": [
    "### **Categorical**\n",
    "\n",
    "Formatação do atributo-alvo\n"
   ]
  },
  {
   "cell_type": "code",
   "execution_count": 0,
   "metadata": {
    "colab": {
     "autoexec": {
      "startup": false,
      "wait_interval": 0
     }
    },
    "colab_type": "code",
    "id": "-ErzTaORL-DJ"
   },
   "outputs": [],
   "source": [
    "import keras\n",
    "y_train = keras.utils.to_categorical(y_train, 10)\n",
    "y_test = keras.utils.to_categorical(y_test, 10)"
   ]
  },
  {
   "cell_type": "markdown",
   "metadata": {
    "colab_type": "text",
    "id": "vi0mv_hklUgO"
   },
   "source": [
    "### **Função F-score**\n",
    "\n",
    "Implementação braçal da função F-score"
   ]
  },
  {
   "cell_type": "code",
   "execution_count": 0,
   "metadata": {
    "colab": {
     "autoexec": {
      "startup": false,
      "wait_interval": 0
     }
    },
    "colab_type": "code",
    "id": "L-VR9XchJs4T"
   },
   "outputs": [],
   "source": [
    "from keras import backend as K\n",
    "\n",
    "def f1(y_true, y_pred):\n",
    "    def recall(y_true, y_pred):\n",
    "        true_positives = K.sum(K.round(K.clip(y_true * y_pred, 0, 1)))\n",
    "        possible_positives = K.sum(K.round(K.clip(y_true, 0, 1)))\n",
    "        recall = true_positives / (possible_positives + K.epsilon())\n",
    "        return recall\n",
    "    def precision(y_true, y_pred):\n",
    "        true_positives = K.sum(K.round(K.clip(y_true * y_pred, 0, 1)))\n",
    "        predicted_positives = K.sum(K.round(K.clip(y_pred, 0, 1)))\n",
    "        precision = true_positives / (predicted_positives + K.epsilon())\n",
    "        return precision\n",
    "    precision = precision(y_true, y_pred)\n",
    "    recall = recall(y_true, y_pred)\n",
    "    return 2*((precision*recall)/(precision+recall+K.epsilon()))"
   ]
  },
  {
   "cell_type": "markdown",
   "metadata": {
    "colab_type": "text",
    "id": "OQT1X2Z4lTQb"
   },
   "source": [
    "### **Primeira rede**\n",
    "\n",
    "Input - conv - fc - softmax\n"
   ]
  },
  {
   "cell_type": "code",
   "execution_count": 0,
   "metadata": {
    "colab": {
     "autoexec": {
      "startup": false,
      "wait_interval": 0
     }
    },
    "colab_type": "code",
    "id": "DJQAE5_MINqI"
   },
   "outputs": [],
   "source": [
    "#rede\n",
    "model = Sequential()\n",
    "model.add(Conv2D(32, kernel_size=(5, 5), strides=(1, 1),activation='relu',input_shape=(32,32,3))) #conv1\n",
    "model.add(Flatten()) #achatamento\n",
    "model.add(Dense(1000, activation='relu')) #canada conectada\n",
    "model.add(Dense(10,activation='softmax')) #softmax"
   ]
  },
  {
   "cell_type": "code",
   "execution_count": 0,
   "metadata": {
    "colab": {
     "autoexec": {
      "startup": false,
      "wait_interval": 0
     },
     "base_uri": "https://localhost:8080/",
     "height": 391
    },
    "colab_type": "code",
    "executionInfo": {
     "elapsed": 2767920,
     "status": "ok",
     "timestamp": 1523288629773,
     "user": {
      "displayName": "Giovana de Lucca",
      "photoUrl": "//lh6.googleusercontent.com/-_T10o8bYi1k/AAAAAAAAAAI/AAAAAAAAAws/4hbxiWfRsIU/s50-c-k-no/photo.jpg",
      "userId": "117997264236604396640"
     },
     "user_tz": 240
    },
    "id": "9hkmt8yKdyIa",
    "outputId": "e95089a9-ba7a-476e-d8a4-75dc6eea4041"
   },
   "outputs": [
    {
     "name": "stdout",
     "output_type": "stream",
     "text": [
      "Train on 50000 samples, validate on 10000 samples\n",
      "Epoch 1/10\n",
      " - 281s - loss: 0.1800 - f1: 0.0999 - acc: 0.0999 - val_loss: 0.1800 - val_f1: 0.1000 - val_acc: 0.1000\n",
      "Epoch 2/10\n",
      " - 279s - loss: 0.1800 - f1: 0.1000 - acc: 0.1000 - val_loss: 0.1800 - val_f1: 0.1000 - val_acc: 0.1000\n",
      "Epoch 3/10\n",
      " - 279s - loss: 0.1800 - f1: 0.1000 - acc: 0.1000 - val_loss: 0.1800 - val_f1: 0.0999 - val_acc: 0.0999\n",
      "Epoch 4/10\n",
      " - 275s - loss: 0.1800 - f1: 0.1000 - acc: 0.1000 - val_loss: 0.1800 - val_f1: 0.1000 - val_acc: 0.1000\n",
      "Epoch 5/10\n",
      " - 274s - loss: 0.1800 - f1: 0.1000 - acc: 0.1000 - val_loss: 0.1800 - val_f1: 0.1000 - val_acc: 0.1000\n",
      "Epoch 6/10\n",
      " - 274s - loss: 0.1800 - f1: 0.1000 - acc: 0.1000 - val_loss: 0.1800 - val_f1: 0.0999 - val_acc: 0.0999\n",
      "Epoch 7/10\n",
      " - 275s - loss: 0.1801 - f1: 0.0994 - acc: 0.0994 - val_loss: 0.1800 - val_f1: 0.1000 - val_acc: 0.1000\n",
      "Epoch 8/10\n",
      " - 275s - loss: 0.1800 - f1: 0.1000 - acc: 0.1000 - val_loss: 0.1800 - val_f1: 0.1000 - val_acc: 0.1000\n",
      "Epoch 9/10\n",
      " - 276s - loss: 0.1800 - f1: 0.1000 - acc: 0.1000 - val_loss: 0.1800 - val_f1: 0.1000 - val_acc: 0.1000\n",
      "Epoch 10/10\n",
      " - 277s - loss: 0.1800 - f1: 0.1000 - acc: 0.1000 - val_loss: 0.1800 - val_f1: 0.1000 - val_acc: 0.1000\n"
     ]
    },
    {
     "data": {
      "text/plain": [
       "<keras.callbacks.History at 0x7ff9205b27b8>"
      ]
     },
     "execution_count": 29,
     "metadata": {
      "tags": []
     },
     "output_type": "execute_result"
    }
   ],
   "source": [
    "#treinamento\n",
    "model.compile(loss='mse', optimizer=keras.optimizers.SGD(lr=0.01), metrics=[f1, 'accuracy'])\n",
    "model.fit(x_train, y_train, batch_size=100, epochs=10, verbose=2, validation_data=(x_test, y_test))\n"
   ]
  },
  {
   "cell_type": "code",
   "execution_count": 0,
   "metadata": {
    "colab": {
     "autoexec": {
      "startup": false,
      "wait_interval": 0
     }
    },
    "colab_type": "code",
    "id": "Y2CtUx01dvTZ"
   },
   "outputs": [],
   "source": [
    "y_pred = model.predict(x_test)\n",
    "#print(y_pred[0])\n",
    "#print(y_test[0])\n",
    "from sklearn.metrics import f1_score\n",
    "print(f1_score(y_test,y_pred,average='macro'))"
   ]
  },
  {
   "cell_type": "markdown",
   "metadata": {
    "colab_type": "text",
    "id": "_2vkZ9EMkAaG"
   },
   "source": [
    "### **Segunda rede**\n",
    "\n",
    "Input - (conv - pool)x2 - fc - softmax"
   ]
  },
  {
   "cell_type": "code",
   "execution_count": 0,
   "metadata": {
    "colab": {
     "autoexec": {
      "startup": false,
      "wait_interval": 0
     }
    },
    "colab_type": "code",
    "id": "Gq0yeGA-oyTK"
   },
   "outputs": [],
   "source": [
    "#rede\n",
    "model = Sequential()\n",
    "model.add(Conv2D(32, kernel_size=(5, 5), strides=(1, 1),activation='relu',input_shape=(32,32,3))) #conv1\n",
    "model.add(MaxPooling2D(pool_size=(2, 2), strides=(2, 2))) #pool1\n",
    "model.add(Conv2D(64, kernel_size=(5, 5), strides=(1, 1),activation='relu')) #conv2\n",
    "model.add(MaxPooling2D(pool_size=(2, 2))) #pool2\n",
    "model.add(Flatten()) #achatamento\n",
    "model.add(Dense(1000, activation='relu')) #canada conectada\n",
    "model.add(Dense(10,activation='softmax')) #softmax"
   ]
  },
  {
   "cell_type": "code",
   "execution_count": 8,
   "metadata": {
    "colab": {
     "autoexec": {
      "startup": false,
      "wait_interval": 0
     },
     "base_uri": "https://localhost:8080/",
     "height": 391
    },
    "colab_type": "code",
    "executionInfo": {
     "elapsed": 75113,
     "status": "ok",
     "timestamp": 1523296261470,
     "user": {
      "displayName": "Giovana de Lucca",
      "photoUrl": "//lh6.googleusercontent.com/-_T10o8bYi1k/AAAAAAAAAAI/AAAAAAAAAws/4hbxiWfRsIU/s50-c-k-no/photo.jpg",
      "userId": "117997264236604396640"
     },
     "user_tz": 240
    },
    "id": "g8jprCO5pJiH",
    "outputId": "748772f1-5bcd-458a-ad34-f7abfd2b6811"
   },
   "outputs": [
    {
     "name": "stdout",
     "output_type": "stream",
     "text": [
      "Train on 50000 samples, validate on 10000 samples\n",
      "Epoch 1/10\n",
      " - 7s - loss: 0.1160 - f1: 0.0661 - acc: 0.1537 - val_loss: 0.0879 - val_f1: 0.0305 - val_acc: 0.2110\n",
      "Epoch 2/10\n",
      " - 7s - loss: 0.0861 - f1: 0.0552 - acc: 0.2373 - val_loss: 0.0844 - val_f1: 0.0756 - val_acc: 0.2586\n",
      "Epoch 3/10\n",
      " - 7s - loss: 0.0833 - f1: 0.0953 - acc: 0.2769 - val_loss: 0.0816 - val_f1: 0.1244 - val_acc: 0.3091\n",
      "Epoch 4/10\n",
      " - 7s - loss: 0.0808 - f1: 0.1386 - acc: 0.3152 - val_loss: 0.0793 - val_f1: 0.1576 - val_acc: 0.3390\n",
      "Epoch 5/10\n",
      " - 7s - loss: 0.0791 - f1: 0.1753 - acc: 0.3406 - val_loss: 0.0794 - val_f1: 0.1405 - val_acc: 0.3386\n",
      "Epoch 6/10\n",
      " - 7s - loss: 0.0773 - f1: 0.2044 - acc: 0.3612 - val_loss: 0.0768 - val_f1: 0.2069 - val_acc: 0.3673\n",
      "Epoch 7/10\n",
      " - 7s - loss: 0.0763 - f1: 0.2316 - acc: 0.3739 - val_loss: 0.0757 - val_f1: 0.2312 - val_acc: 0.3806\n",
      "Epoch 8/10\n",
      " - 7s - loss: 0.0751 - f1: 0.2583 - acc: 0.3862 - val_loss: 0.0801 - val_f1: 0.2601 - val_acc: 0.3440\n",
      "Epoch 9/10\n",
      " - 7s - loss: 0.0740 - f1: 0.2767 - acc: 0.4003 - val_loss: 0.0741 - val_f1: 0.2628 - val_acc: 0.4016\n",
      "Epoch 10/10\n",
      " - 7s - loss: 0.0729 - f1: 0.2982 - acc: 0.4141 - val_loss: 0.0726 - val_f1: 0.3225 - val_acc: 0.4194\n"
     ]
    },
    {
     "data": {
      "text/plain": [
       "<keras.callbacks.History at 0x7f2331365b00>"
      ]
     },
     "execution_count": 8,
     "metadata": {
      "tags": []
     },
     "output_type": "execute_result"
    }
   ],
   "source": [
    "#treinamento\n",
    "model.compile(loss='mse', optimizer=keras.optimizers.SGD(lr=0.01), metrics=[f1, 'accuracy'])\n",
    "model.fit(x_train, y_train, batch_size=100, epochs=10, verbose=2, validation_data=(x_test, y_test))"
   ]
  },
  {
   "cell_type": "markdown",
   "metadata": {
    "colab_type": "text",
    "id": "6Uh0W6Slpm1J"
   },
   "source": [
    "### **Terceira rede**\n",
    "\n",
    "Input - (conv -conv - pool)x3 - fc - fc - softmax"
   ]
  },
  {
   "cell_type": "code",
   "execution_count": 0,
   "metadata": {
    "colab": {
     "autoexec": {
      "startup": false,
      "wait_interval": 0
     }
    },
    "colab_type": "code",
    "id": "dW3JF_UQhSKW"
   },
   "outputs": [],
   "source": [
    "#rede\n",
    "model = Sequential()\n",
    "model.add(Conv2D(32, kernel_size=(3, 3), strides=(1, 1),activation='relu',input_shape=(32,32,3))) #conv1\n",
    "model.add(Conv2D(32, kernel_size=(3, 3), strides=(1, 1),activation='relu')) #conv2\n",
    "model.add(MaxPooling2D(pool_size=(1, 1), strides=(2, 2))) #pool1\n",
    "model.add(Conv2D(32, kernel_size=(3, 3), strides=(1, 1),activation='relu')) #conv3\n",
    "model.add(Conv2D(32, kernel_size=(3, 3), strides=(1, 1),activation='relu')) #conv4\n",
    "model.add(MaxPooling2D(pool_size=(1, 1))) #pool2\n",
    "model.add(Conv2D(32, kernel_size=(3, 3), strides=(1, 1),activation='relu')) #conv5\n",
    "model.add(Conv2D(32, kernel_size=(3, 3), strides=(1, 1),activation='relu')) #conv6\n",
    "model.add(MaxPooling2D(pool_size=(1, 1))) #pool3\n",
    "model.add(Flatten()) #achatamento\n",
    "model.add(Dense(1000, activation='relu')) #canada conectada\n",
    "model.add(Dense(1000, activation='relu')) #canada conectada\n",
    "model.add(Dense(10,activation='softmax')) #softmax"
   ]
  },
  {
   "cell_type": "code",
   "execution_count": 14,
   "metadata": {
    "colab": {
     "autoexec": {
      "startup": false,
      "wait_interval": 0
     },
     "base_uri": "https://localhost:8080/",
     "height": 391
    },
    "colab_type": "code",
    "executionInfo": {
     "elapsed": 115279,
     "status": "ok",
     "timestamp": 1523296545360,
     "user": {
      "displayName": "Giovana de Lucca",
      "photoUrl": "//lh6.googleusercontent.com/-_T10o8bYi1k/AAAAAAAAAAI/AAAAAAAAAws/4hbxiWfRsIU/s50-c-k-no/photo.jpg",
      "userId": "117997264236604396640"
     },
     "user_tz": 240
    },
    "id": "Jy4-U9aih1ru",
    "outputId": "dacc34f9-5f9b-4eef-f875-ade36597dda9"
   },
   "outputs": [
    {
     "name": "stdout",
     "output_type": "stream",
     "text": [
      "Train on 50000 samples, validate on 10000 samples\n",
      "Epoch 1/10\n",
      " - 12s - loss: 0.0902 - f1: 0.0183 - acc: 0.1835 - val_loss: 0.0852 - val_f1: 0.0385 - val_acc: 0.2391\n",
      "Epoch 2/10\n",
      " - 11s - loss: 0.0826 - f1: 0.0683 - acc: 0.2782 - val_loss: 0.0807 - val_f1: 0.1001 - val_acc: 0.3089\n",
      "Epoch 3/10\n",
      " - 11s - loss: 0.0793 - f1: 0.1272 - acc: 0.3275 - val_loss: 0.0781 - val_f1: 0.1669 - val_acc: 0.3431\n",
      "Epoch 4/10\n",
      " - 11s - loss: 0.0771 - f1: 0.1748 - acc: 0.3550 - val_loss: 0.0758 - val_f1: 0.1913 - val_acc: 0.3686\n",
      "Epoch 5/10\n",
      " - 11s - loss: 0.0754 - f1: 0.2081 - acc: 0.3769 - val_loss: 0.0759 - val_f1: 0.2090 - val_acc: 0.3660\n",
      "Epoch 6/10\n",
      " - 11s - loss: 0.0740 - f1: 0.2406 - acc: 0.3931 - val_loss: 0.0746 - val_f1: 0.2333 - val_acc: 0.3791\n",
      "Epoch 7/10\n",
      " - 11s - loss: 0.0728 - f1: 0.2625 - acc: 0.4053 - val_loss: 0.0729 - val_f1: 0.2582 - val_acc: 0.4029\n",
      "Epoch 8/10\n",
      " - 11s - loss: 0.0718 - f1: 0.2821 - acc: 0.4157 - val_loss: 0.0714 - val_f1: 0.2847 - val_acc: 0.4219\n",
      "Epoch 9/10\n",
      " - 11s - loss: 0.0706 - f1: 0.3035 - acc: 0.4296 - val_loss: 0.0729 - val_f1: 0.2834 - val_acc: 0.4029\n",
      "Epoch 10/10\n",
      " - 11s - loss: 0.0699 - f1: 0.3176 - acc: 0.4384 - val_loss: 0.0706 - val_f1: 0.2957 - val_acc: 0.4250\n"
     ]
    },
    {
     "data": {
      "text/plain": [
       "<keras.callbacks.History at 0x7f2301450240>"
      ]
     },
     "execution_count": 14,
     "metadata": {
      "tags": []
     },
     "output_type": "execute_result"
    }
   ],
   "source": [
    "#treinamento\n",
    "model.compile(loss='mse', optimizer=keras.optimizers.SGD(lr=0.01), metrics=[f1, 'accuracy'])\n",
    "model.fit(x_train, y_train, batch_size=100, epochs=10, verbose=2, validation_data=(x_test, y_test))"
   ]
  },
  {
   "cell_type": "code",
   "execution_count": 15,
   "metadata": {
    "colab": {
     "autoexec": {
      "startup": false,
      "wait_interval": 0
     },
     "base_uri": "https://localhost:8080/",
     "height": 1071
    },
    "colab_type": "code",
    "executionInfo": {
     "elapsed": 343260,
     "status": "ok",
     "timestamp": 1523296959614,
     "user": {
      "displayName": "Giovana de Lucca",
      "photoUrl": "//lh6.googleusercontent.com/-_T10o8bYi1k/AAAAAAAAAAI/AAAAAAAAAws/4hbxiWfRsIU/s50-c-k-no/photo.jpg",
      "userId": "117997264236604396640"
     },
     "user_tz": 240
    },
    "id": "3VIG9uN8jact",
    "outputId": "b1683107-f934-4c17-d367-06dd1e0d4f74"
   },
   "outputs": [
    {
     "name": "stdout",
     "output_type": "stream",
     "text": [
      "Train on 50000 samples, validate on 10000 samples\n",
      "Epoch 1/30\n",
      " - 12s - loss: 0.0691 - f1: 0.3328 - acc: 0.4451 - val_loss: 0.0693 - val_f1: 0.3403 - val_acc: 0.4437\n",
      "Epoch 2/30\n",
      " - 11s - loss: 0.0682 - f1: 0.3504 - acc: 0.4570 - val_loss: 0.0687 - val_f1: 0.3512 - val_acc: 0.4496\n",
      "Epoch 3/30\n",
      " - 11s - loss: 0.0675 - f1: 0.3601 - acc: 0.4605 - val_loss: 0.0698 - val_f1: 0.3457 - val_acc: 0.4371\n",
      "Epoch 4/30\n",
      " - 11s - loss: 0.0669 - f1: 0.3713 - acc: 0.4708 - val_loss: 0.0686 - val_f1: 0.3697 - val_acc: 0.4504\n",
      "Epoch 5/30\n",
      " - 11s - loss: 0.0661 - f1: 0.3855 - acc: 0.4762 - val_loss: 0.0664 - val_f1: 0.3792 - val_acc: 0.4742\n",
      "Epoch 6/30\n",
      " - 11s - loss: 0.0655 - f1: 0.3988 - acc: 0.4826 - val_loss: 0.0664 - val_f1: 0.3718 - val_acc: 0.4749\n",
      "Epoch 7/30\n",
      " - 11s - loss: 0.0650 - f1: 0.4054 - acc: 0.4882 - val_loss: 0.0657 - val_f1: 0.3942 - val_acc: 0.4809\n",
      "Epoch 8/30\n",
      " - 11s - loss: 0.0644 - f1: 0.4166 - acc: 0.4942 - val_loss: 0.0655 - val_f1: 0.3906 - val_acc: 0.4782\n",
      "Epoch 9/30\n",
      " - 11s - loss: 0.0636 - f1: 0.4274 - acc: 0.5003 - val_loss: 0.0654 - val_f1: 0.4046 - val_acc: 0.4802\n",
      "Epoch 10/30\n",
      " - 11s - loss: 0.0632 - f1: 0.4331 - acc: 0.5051 - val_loss: 0.0667 - val_f1: 0.3839 - val_acc: 0.4686\n",
      "Epoch 11/30\n",
      " - 11s - loss: 0.0626 - f1: 0.4455 - acc: 0.5110 - val_loss: 0.0642 - val_f1: 0.4105 - val_acc: 0.4927\n",
      "Epoch 12/30\n",
      " - 11s - loss: 0.0621 - f1: 0.4505 - acc: 0.5169 - val_loss: 0.0652 - val_f1: 0.4240 - val_acc: 0.4847\n",
      "Epoch 13/30\n",
      " - 11s - loss: 0.0617 - f1: 0.4566 - acc: 0.5192 - val_loss: 0.0648 - val_f1: 0.4211 - val_acc: 0.4899\n",
      "Epoch 14/30\n",
      " - 11s - loss: 0.0611 - f1: 0.4662 - acc: 0.5253 - val_loss: 0.0628 - val_f1: 0.4486 - val_acc: 0.5071\n",
      "Epoch 15/30\n",
      " - 11s - loss: 0.0607 - f1: 0.4714 - acc: 0.5306 - val_loss: 0.0630 - val_f1: 0.4496 - val_acc: 0.5023\n",
      "Epoch 16/30\n",
      " - 11s - loss: 0.0603 - f1: 0.4786 - acc: 0.5351 - val_loss: 0.0657 - val_f1: 0.4128 - val_acc: 0.4789\n",
      "Epoch 17/30\n",
      " - 11s - loss: 0.0598 - f1: 0.4859 - acc: 0.5390 - val_loss: 0.0620 - val_f1: 0.4498 - val_acc: 0.5145\n",
      "Epoch 18/30\n",
      " - 11s - loss: 0.0594 - f1: 0.4912 - acc: 0.5420 - val_loss: 0.0639 - val_f1: 0.4601 - val_acc: 0.4979\n",
      "Epoch 19/30\n",
      " - 11s - loss: 0.0589 - f1: 0.4976 - acc: 0.5484 - val_loss: 0.0623 - val_f1: 0.4593 - val_acc: 0.5130\n",
      "Epoch 20/30\n",
      " - 11s - loss: 0.0586 - f1: 0.4999 - acc: 0.5500 - val_loss: 0.0615 - val_f1: 0.4753 - val_acc: 0.5188\n",
      "Epoch 21/30\n",
      " - 11s - loss: 0.0582 - f1: 0.5071 - acc: 0.5547 - val_loss: 0.0615 - val_f1: 0.4630 - val_acc: 0.5166\n",
      "Epoch 22/30\n",
      " - 11s - loss: 0.0577 - f1: 0.5126 - acc: 0.5601 - val_loss: 0.0625 - val_f1: 0.4640 - val_acc: 0.5102\n",
      "Epoch 23/30\n",
      " - 11s - loss: 0.0573 - f1: 0.5179 - acc: 0.5617 - val_loss: 0.0645 - val_f1: 0.4426 - val_acc: 0.4860\n",
      "Epoch 24/30\n",
      " - 11s - loss: 0.0571 - f1: 0.5208 - acc: 0.5665 - val_loss: 0.0606 - val_f1: 0.4793 - val_acc: 0.5310\n",
      "Epoch 25/30\n",
      " - 11s - loss: 0.0565 - f1: 0.5276 - acc: 0.5701 - val_loss: 0.0621 - val_f1: 0.4950 - val_acc: 0.5173\n",
      "Epoch 26/30\n",
      " - 11s - loss: 0.0562 - f1: 0.5335 - acc: 0.5733 - val_loss: 0.0603 - val_f1: 0.4844 - val_acc: 0.5342\n",
      "Epoch 27/30\n",
      " - 11s - loss: 0.0558 - f1: 0.5393 - acc: 0.5790 - val_loss: 0.0610 - val_f1: 0.4879 - val_acc: 0.5298\n",
      "Epoch 28/30\n",
      " - 11s - loss: 0.0555 - f1: 0.5419 - acc: 0.5798 - val_loss: 0.0612 - val_f1: 0.4798 - val_acc: 0.5213\n",
      "Epoch 29/30\n",
      " - 11s - loss: 0.0552 - f1: 0.5465 - acc: 0.5823 - val_loss: 0.0600 - val_f1: 0.5003 - val_acc: 0.5373\n",
      "Epoch 30/30\n",
      " - 11s - loss: 0.0548 - f1: 0.5506 - acc: 0.5873 - val_loss: 0.0607 - val_f1: 0.4977 - val_acc: 0.5319\n"
     ]
    },
    {
     "data": {
      "text/plain": [
       "<keras.callbacks.History at 0x7f22ffa29c88>"
      ]
     },
     "execution_count": 15,
     "metadata": {
      "tags": []
     },
     "output_type": "execute_result"
    }
   ],
   "source": [
    "#treinamento\n",
    "model.compile(loss='mse', optimizer=keras.optimizers.SGD(lr=0.01), metrics=[f1, 'accuracy'])\n",
    "model.fit(x_train, y_train, batch_size=100, epochs=30, verbose=2, validation_data=(x_test, y_test))"
   ]
  }
 ],
 "metadata": {
  "accelerator": "GPU",
  "colab": {
   "collapsed_sections": [],
   "default_view": {},
   "name": "CIFAR-10.ipynb",
   "provenance": [],
   "version": "0.3.2",
   "views": {}
  },
  "kernelspec": {
   "display_name": "Python 3",
   "language": "python",
   "name": "python3"
  },
  "language_info": {
   "codemirror_mode": {
    "name": "ipython",
    "version": 3
   },
   "file_extension": ".py",
   "mimetype": "text/x-python",
   "name": "python",
   "nbconvert_exporter": "python",
   "pygments_lexer": "ipython3",
   "version": "3.6.4"
  }
 },
 "nbformat": 4,
 "nbformat_minor": 1
}
