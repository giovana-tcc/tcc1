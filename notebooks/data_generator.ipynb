{
 "cells": [
  {
   "cell_type": "markdown",
   "metadata": {},
   "source": [
    "# Jupyter Notebook para estruturação dos dados\n",
    "### Leitura dos dados e organização em arrays de entrada e saída para alimentação das CNNs"
   ]
  },
  {
   "cell_type": "markdown",
   "metadata": {},
   "source": [
    "#### Importação de bibliotecas"
   ]
  },
  {
   "cell_type": "code",
   "execution_count": 41,
   "metadata": {},
   "outputs": [],
   "source": [
    "import numpy as np\n",
    "import glob"
   ]
  },
  {
   "cell_type": "markdown",
   "metadata": {},
   "source": [
    "#### Criando lista com o nome dos arquivos de exemplo"
   ]
  },
  {
   "cell_type": "code",
   "execution_count": 42,
   "metadata": {},
   "outputs": [],
   "source": [
    "names_list = glob.glob('ndarray\\\\*.npy')"
   ]
  },
  {
   "cell_type": "markdown",
   "metadata": {},
   "source": [
    "#### Declarando variáveis de parâmetros"
   ]
  },
  {
   "cell_type": "code",
   "execution_count": 53,
   "metadata": {},
   "outputs": [],
   "source": [
    "exemplos = len(names_list) #quantidade de exemplos\n",
    "colors = 3 #quantidade de cores por exemplo\n",
    "dim = 128 #dimensão de uma cor de um exemplo\n",
    "dtype = float #tipo de dado dos arrays"
   ]
  },
  {
   "cell_type": "markdown",
   "metadata": {},
   "source": [
    "#### Criação de array vazio baseado nos tamanhos declarados"
   ]
  },
  {
   "cell_type": "code",
   "execution_count": 54,
   "metadata": {},
   "outputs": [],
   "source": [
    "array = np.empty(shape=(exemplos,colors,dim,dim),dtype=dtype)"
   ]
  },
  {
   "cell_type": "markdown",
   "metadata": {},
   "source": [
    "#### Alocando exemplos em um único array (array anteriormente vazio)"
   ]
  },
  {
   "cell_type": "code",
   "execution_count": 55,
   "metadata": {},
   "outputs": [],
   "source": [
    "for i, name in enumerate(names_list):\n",
    "    array[i] = np.load(name)"
   ]
  },
  {
   "cell_type": "markdown",
   "metadata": {},
   "source": [
    "#### Criando array de entrada"
   ]
  },
  {
   "cell_type": "code",
   "execution_count": 56,
   "metadata": {},
   "outputs": [],
   "source": [
    "#criando matriz de zeros para os valores a e b da entrada\n",
    "zeros = np.zeros((exemplos,dim,dim))\n",
    "\n",
    "#atribuindo valor do canal de cores L para array separado\n",
    "L = array.transpose(1,0,2,3)[0]\n",
    "\n",
    "#criando array de entrada\n",
    "Lab_input = np.array([L,zeros,zeros]).transpose((1,2,3,0))\n",
    "\n",
    "#salvando array de entrada\n",
    "np.save('x.npy',Lab_input)"
   ]
  },
  {
   "cell_type": "markdown",
   "metadata": {},
   "source": [
    "#### Criando array de saída"
   ]
  },
  {
   "cell_type": "code",
   "execution_count": 57,
   "metadata": {},
   "outputs": [],
   "source": [
    "#atribuindo valor dos canais de cores a e b para arrays separados\n",
    "a = array.transpose(1,0,2,3)[1]\n",
    "b = array.transpose(1,0,2,3)[2]\n",
    "\n",
    "#criando array de saída\n",
    "ab_output = np.array([a,b]).transpose((1,0,2,3)).reshape(exemplos,dim*dim*(colors-1))\n",
    "\n",
    "#salvando array de saída\n",
    "np.save('y.npy',ab_output)"
   ]
  }
 ],
 "metadata": {
  "kernelspec": {
   "display_name": "Python 3",
   "language": "python",
   "name": "python3"
  },
  "language_info": {
   "codemirror_mode": {
    "name": "ipython",
    "version": 3
   },
   "file_extension": ".py",
   "mimetype": "text/x-python",
   "name": "python",
   "nbconvert_exporter": "python",
   "pygments_lexer": "ipython3",
   "version": "3.6.4"
  }
 },
 "nbformat": 4,
 "nbformat_minor": 2
}
