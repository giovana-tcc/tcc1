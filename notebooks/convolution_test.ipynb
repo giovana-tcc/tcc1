{
 "cells": [
  {
   "cell_type": "markdown",
   "metadata": {},
   "source": [
    "# Jupyter Notebook para programação de uma convolucão matricial \n",
    "### Exemplo do livro Fundamentals of Deep Learning do Buduma - página 96"
   ]
  },
  {
   "cell_type": "markdown",
   "metadata": {},
   "source": [
    "#### Importação de bibliotecas"
   ]
  },
  {
   "cell_type": "code",
   "execution_count": 3,
   "metadata": {},
   "outputs": [],
   "source": [
    "import numpy as np"
   ]
  },
  {
   "cell_type": "markdown",
   "metadata": {},
   "source": [
    "#### Criando variáveis de entrada \n",
    "- Dimensão: 5 x 5 x 3\n",
    "- Zero padding p = 1"
   ]
  },
  {
   "cell_type": "code",
   "execution_count": 4,
   "metadata": {},
   "outputs": [],
   "source": [
    "input_r = np.array([[0,0,0,0,0,0,0],[0,-1,1,1,1,-1,0],[0,1,-1,1,1,-1,0],[0,0,-1,1,1,0,0],[0,-1,1,1,1,0,0],[0,1,1,-1,1,-1,0],[0,0,0,0,0,0,0]])\n",
    "input_g = np.array([[0,0,0,0,0,0,0],[0,1,-1,-1,1,-1,0],[0,1,-1,0,1,-1,0],[0,1,0,0,-1,0,0],[0,-1,1,1,1,1,0],[0,-1,1,0,-1,-1,0],[0,0,0,0,0,0,0]])\n",
    "input_b = np.array([[0,0,0,0,0,0,0],[0,1,-1,-1,0,-1,0],[0,1,-1,0,1,0,0],[0,1,0,0,-1,0,0],[0,0,1,0,0,1,0],[0,-1,-1,1,-1,0,0],[0,0,0,0,0,0,0]])\n",
    "\n",
    "inputs = np.array([input_r,input_g,input_b])"
   ]
  },
  {
   "cell_type": "markdown",
   "metadata": {},
   "source": [
    "#### Criando filtros\n",
    "- Dimensão: 3 x 3 x 3"
   ]
  },
  {
   "cell_type": "code",
   "execution_count": 5,
   "metadata": {},
   "outputs": [],
   "source": [
    "r_filter1 = np.array([[0,0,0],[0,-1,1],[0,1,-1]])\n",
    "g_filter1 = np.array([[1,0,0],[0,0,-1],[0,1,1]])\n",
    "b_filter1 = np.array([[1,1,1],[1,1,1],[0,1,-1]])\n",
    "\n",
    "filter1 = np.array([r_filter1,g_filter1,b_filter1])"
   ]
  },
  {
   "cell_type": "code",
   "execution_count": 6,
   "metadata": {},
   "outputs": [],
   "source": [
    "r_filter2 = np.array([[1,0,0],[0,1,1],[1,-1,-1]])\n",
    "g_filter2 = np.array([[1,1,0],[1,1,-1],[1,-1,-1]])\n",
    "b_filter2 = np.array([[0,0,0],[0,0,0],[0,1,0]])\n",
    "\n",
    "filter2 = np.array([r_filter2,g_filter2,b_filter2])"
   ]
  },
  {
   "cell_type": "markdown",
   "metadata": {},
   "source": [
    "#### Função que realiza a convolução utilizando:\n",
    "- Uma entrada\n",
    "- Um filtro\n",
    "- Um valor de stride"
   ]
  },
  {
   "cell_type": "code",
   "execution_count": 7,
   "metadata": {},
   "outputs": [],
   "source": [
    "def convolution(input, filter, stride):\n",
    "    feature_map = np.zeros(shape=(3,3),dtype=np.int8)\n",
    "    \n",
    "    for color in range(len(input)):\n",
    "        step_i = 0\n",
    "        for i in range(len(filter)):\n",
    "            step_j = 0\n",
    "            for j in range(len(filter)):\n",
    "                aux = np.array(input[color][i+step_i:i+step_i+3,j+step_j:j+step_j+3])\n",
    "                feature_map[i][j] += np.sum(aux*filter[color])\n",
    "                step_j+=1\n",
    "            step_i+=1\n",
    "            \n",
    "    return feature_map"
   ]
  },
  {
   "cell_type": "markdown",
   "metadata": {},
   "source": [
    "#### Mostrando o resultado da convolução com os parâmetros desejados"
   ]
  },
  {
   "cell_type": "code",
   "execution_count": 12,
   "metadata": {
    "scrolled": true
   },
   "outputs": [
    {
     "name": "stdout",
     "output_type": "stream",
     "text": [
      "[[ 7 -3 -2]\n",
      " [-3  1  3]\n",
      " [-2  4  2]]\n"
     ]
    }
   ],
   "source": [
    "print(convolution(inputs,filter1,2))"
   ]
  }
 ],
 "metadata": {
  "kernelspec": {
   "display_name": "Python 3",
   "language": "python",
   "name": "python3"
  },
  "language_info": {
   "codemirror_mode": {
    "name": "ipython",
    "version": 3
   },
   "file_extension": ".py",
   "mimetype": "text/x-python",
   "name": "python",
   "nbconvert_exporter": "python",
   "pygments_lexer": "ipython3",
   "version": "3.6.4"
  }
 },
 "nbformat": 4,
 "nbformat_minor": 2
}
