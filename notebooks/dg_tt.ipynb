{
 "cells": [
  {
   "cell_type": "code",
   "execution_count": null,
   "metadata": {},
   "outputs": [],
   "source": [
    "print('DATA GENERATOR\\n\\n')"
   ]
  },
  {
   "cell_type": "code",
   "execution_count": null,
   "metadata": {},
   "outputs": [],
   "source": [
    "import numpy as np\n",
    "import glob\n",
    "import time\n",
    "print('importação')"
   ]
  },
  {
   "cell_type": "code",
   "execution_count": null,
   "metadata": {},
   "outputs": [],
   "source": [
    "qtd_examples = 500\n",
    "\n",
    "names_list = glob.glob('ndarray/*.npy')\n",
    "predict_names = names_list[qtd_examples+5:qtd_examples+10]\n",
    "np.save('predict_names',predict_names)\n",
    "\n",
    "names_list = names_list[:qtd_examples]\n",
    "print('names_list:',len(names_list))"
   ]
  },
  {
   "cell_type": "code",
   "execution_count": null,
   "metadata": {},
   "outputs": [],
   "source": [
    "examples = len(names_list) #quantidade de exemplos\n",
    "channels= 3 #quantidade de canais por exemplo\n",
    "dim = 128 #dimensão de uma cor de um exemplo\n",
    "dtype = float #tipo de dado dos arrays\n",
    "print('variáveis')"
   ]
  },
  {
   "cell_type": "code",
   "execution_count": null,
   "metadata": {},
   "outputs": [],
   "source": [
    "Lab_input = np.empty(shape=(examples,dim,dim,channels),dtype=dtype) #array de entrada\n",
    "ab_output = np.empty(shape=(examples,(dim*dim*(channels-1))),dtype=dtype) #array de saída\n",
    "print('empty_array')"
   ]
  },
  {
   "cell_type": "code",
   "execution_count": null,
   "metadata": {},
   "outputs": [],
   "source": [
    "#criando matriz de zeros para os valores a e b da entrada\n",
    "zeros = np.zeros((dim,dim))\n",
    "print('zeros')\n",
    "\n",
    "#inicio da contagem de tempo de execução\n",
    "start = time.time()\n",
    "\n",
    "errors = 0\n",
    "cont = 0\n",
    "\n",
    "for i, name in enumerate(names_list):\n",
    "    try:\n",
    "        #carregando exemplo\n",
    "        array = np.load(name).transpose((2,0,1))\n",
    "        \n",
    "        #atribuindo valor do canal de cores L para array separado\n",
    "        L = array[0]\n",
    "        \n",
    "        #alocando exemplo em array de entrada\n",
    "        Lab_input[i] = np.array([L,zeros,zeros]).transpose(1,2,0)\n",
    "        \n",
    "        #atribuindo valor dos canais de cores a e b para array separado\n",
    "        ab = array[1:]\n",
    "        \n",
    "        #alocando exemplo em array de saída\n",
    "        ab_output[i] = ab.reshape(dim*dim*(channels-1))\n",
    "    \n",
    "    except ValueError:\n",
    "        print(name)\n",
    "        errors+=1\n",
    "    \n",
    "    #contando exemplos\n",
    "    cont+=1\n",
    "    \n",
    "    if (cont%1000==0):\n",
    "        #mostrando contagem a cada 1000 exemplos na tela\n",
    "        print('\\nExemplos já carregados:',cont)\n",
    "        \n",
    "        #capturando tempo de execução\n",
    "        end = time.time()\n",
    "        current_time = 'Tempo de execução: %f segundos'%(end-start)\n",
    "\n",
    "        #printando o tempo na tela\n",
    "        print(current_time)\n",
    "\n",
    "print('Erros:',errors)\n",
    "print('loading_array')"
   ]
  },
  {
   "cell_type": "code",
   "execution_count": null,
   "metadata": {},
   "outputs": [],
   "source": [
    "#mostrando tamanho do array de entrada na tela\n",
    "print('input_size:',len(Lab_input))\n",
    "\n",
    "#mostrando tamanho do array de saída na tela\n",
    "print('output_size:',len(ab_output))\n",
    "\n",
    "#capturando tempo final de execução\n",
    "end = time.time()\n",
    "final_time = '\\n\\nTempo final de execução: %f segundos'%(end-start)\n",
    "\n",
    "#printando o tempo na tela\n",
    "print(final_time)"
   ]
  },
  {
   "cell_type": "code",
   "execution_count": null,
   "metadata": {},
   "outputs": [],
   "source": [
    "print('TRANSFER TEST\\n\\n')"
   ]
  },
  {
   "cell_type": "code",
   "execution_count": null,
   "metadata": {},
   "outputs": [],
   "source": [
    "import time\n",
    "import matplotlib.pyplot as plt\n",
    "from keras import applications\n",
    "from keras.optimizers import SGD\n",
    "from keras.models import Model\n",
    "from keras.layers import Dense, Flatten\n",
    "import numpy as np\n",
    "from sklearn.model_selection import train_test_split\n",
    "from keras import backend as K\n",
    "print('importação')"
   ]
  },
  {
   "cell_type": "code",
   "execution_count": null,
   "metadata": {},
   "outputs": [],
   "source": [
    "def coeff_determination(y_true, y_pred):\n",
    "    from keras import backend as K\n",
    "    SS_res =  K.sum(K.square( y_true-y_pred ))\n",
    "    SS_tot = K.sum(K.square( y_true - K.mean(y_true) ) )\n",
    "    return ( 1 - SS_res/(SS_tot + K.epsilon()) )\n",
    "print('função r_quadrado')"
   ]
  },
  {
   "cell_type": "code",
   "execution_count": null,
   "metadata": {},
   "outputs": [],
   "source": [
    "start = time.time()"
   ]
  },
  {
   "cell_type": "code",
   "execution_count": null,
   "metadata": {},
   "outputs": [],
   "source": [
    "input_channels = 3 #quantidade de canais de cores na camada de entrada\n",
    "output_channels = 2 #quantidade de canais de cores na camada de saída\n",
    "\n",
    "test_size = 0.3 #porcentagem do dataset para utilizar nos testes\n",
    "dim = 128 #dimensão das imagens utilizadas como exemplos\n",
    "flatten = dim*dim*output_channels #dimensão da camada de saída\n",
    "momentum = 0.9 #valor do momentum\n",
    "epochs = 3 #quantidade de épocas\n",
    "lr = 0.0001 #taxa de aprendizado\n",
    "metrics = [coeff_determination]\n",
    "\n",
    "#observação: em caso de alterações, não esquecer de alterar os parâmetros na string da próxima célula\n",
    "print('variáveis')"
   ]
  },
  {
   "cell_type": "code",
   "execution_count": null,
   "metadata": {},
   "outputs": [],
   "source": [
    "params=\"\"\"\n",
    "input_channels = 3 #quantidade de canais de cores na camada de entrada\\n\n",
    "output_channels = 2 #quantidade de canais de cores na camada de saída\\n\n",
    "\\n\n",
    "test_size = 0.3 #porcentagem do dataset para utilizar nos testes\\n\n",
    "dim = 128 #dimensão das imagens utilizadas como exemplos\\n\n",
    "flatten = dim*dim*output_channels #dimensão da camada de saída\\n\n",
    "momentum = 0.9 #valor do momentum\\n\n",
    "epochs = 3 #quantidade de épocas\\n\n",
    "lr = 0.0001 #taxa de aprendizado\\n\n",
    "\\n\n",
    "\"\"\"\n",
    "print('params')"
   ]
  },
  {
   "cell_type": "code",
   "execution_count": null,
   "metadata": {},
   "outputs": [],
   "source": [
    "X = Lab_input\n",
    "Y = ab_output\n",
    "print('dados de entrada')"
   ]
  },
  {
   "cell_type": "code",
   "execution_count": null,
   "metadata": {},
   "outputs": [],
   "source": [
    "x_train, x_test, y_train, y_test = train_test_split(X,Y,test_size=test_size)\n",
    "\n",
    "#mostrando na tela\n",
    "print('x_train:',len(x_train))\n",
    "print('y_train:',len(y_train))\n",
    "print('x_test:',len(x_test))\n",
    "print('y_test:',len(y_test))"
   ]
  },
  {
   "cell_type": "code",
   "execution_count": null,
   "metadata": {},
   "outputs": [],
   "source": [
    "model = applications.vgg16.VGG16(include_top=False, weights='imagenet', input_shape=(dim,dim,input_channels), pooling=None)\n",
    "print('model')"
   ]
  },
  {
   "cell_type": "code",
   "execution_count": null,
   "metadata": {},
   "outputs": [],
   "source": [
    "#adding custom layers \n",
    "x = model.output\n",
    "x = Dense(1024, activation='relu')(x)\n",
    "x = Flatten()(x)\n",
    "predictions = Dense(flatten, activation=\"sigmoid\")(x)\n",
    "\n",
    "# creating the final model \n",
    "model_final = Model(inputs = model.input, outputs = predictions)\n",
    "    \n",
    "# compile the model \n",
    "model_final.compile(loss ='mean_squared_error', optimizer=SGD(lr=lr, momentum=momentum),metrics=metrics)\n",
    "print('ajustes')"
   ]
  },
  {
   "cell_type": "code",
   "execution_count": null,
   "metadata": {},
   "outputs": [],
   "source": [
    "history = model_final.fit(x_train,y_train, epochs=epochs, verbose=0, validation_split=0.2, batch_size=32)\n",
    "print('treinamento')"
   ]
  },
  {
   "cell_type": "code",
   "execution_count": null,
   "metadata": {},
   "outputs": [],
   "source": [
    "loss, r_squared = model_final.evaluate(x_test, y_test)\n",
    "\n",
    "out_loss = '\\n\\nLoss: '+str(loss)\n",
    "out_r_squared = '\\n\\nR²: '+str(r_squared)\n",
    "\n",
    "#printando métricas na tela\n",
    "print('Loss:',loss)\n",
    "print('R²:',r_squared)"
   ]
  },
  {
   "cell_type": "code",
   "execution_count": null,
   "metadata": {},
   "outputs": [],
   "source": [
    "end = time.time()\n",
    "\n",
    "final_time = '\\n\\nTempo de execução: %f segundos'%(end-start)\n",
    "\n",
    "#printando o tempo na tela\n",
    "print(final_time)"
   ]
  },
  {
   "cell_type": "code",
   "execution_count": null,
   "metadata": {},
   "outputs": [],
   "source": [
    "out = params+out_loss+out_r_squared+final_time\n",
    "\n",
    "arq = open('output.txt', 'w')\n",
    "arq.write(out)\n",
    "arq.close()\n",
    "print('arquivos')"
   ]
  },
  {
   "cell_type": "code",
   "execution_count": null,
   "metadata": {},
   "outputs": [],
   "source": [
    "inputs = np.empty(shape=(len(predict_names),dim,dim,channels),dtype=dtype) #array de entrada\n",
    "\n",
    "for i,name in enumerate(predict_names):\n",
    "    name_save = name.replace('ndarray/ndarray','')\n",
    "    ex = np.load(name)\n",
    "    np.save('ex_'+name_save,ex)\n",
    "    \n",
    "    array = ex.transpose((2,0,1))\n",
    "    L = array[0]\n",
    "    inputs[i] = np.array([L,zeros,zeros]).transpose(1,2,0)\n",
    "\n",
    "np.save('input_'+name_save,inputs)\n",
    "    \n",
    "predict = model.predict(inputs)\n",
    "np.save('predict_'+name_save,predict)"
   ]
  }
 ],
 "metadata": {
  "kernelspec": {
   "display_name": "Python 3",
   "language": "python",
   "name": "python3"
  },
  "language_info": {
   "codemirror_mode": {
    "name": "ipython",
    "version": 3
   },
   "file_extension": ".py",
   "mimetype": "text/x-python",
   "name": "python",
   "nbconvert_exporter": "python",
   "pygments_lexer": "ipython3",
   "version": "3.6.4"
  }
 },
 "nbformat": 4,
 "nbformat_minor": 2
}
