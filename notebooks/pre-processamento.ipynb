{
 "cells": [
  {
   "cell_type": "code",
   "execution_count": 310,
   "metadata": {
    "scrolled": true
   },
   "outputs": [],
   "source": [
    "from PIL import Image\n",
    "from colormath.color_objects import LabColor, sRGBColor, AdobeRGBColor\n",
    "from colormath.color_conversions import convert_color\n",
    "import numpy as np\n",
    "import pandas as pd\n",
    "import math\n",
    "import matplotlib.pyplot as plt"
   ]
  },
  {
   "cell_type": "code",
   "execution_count": 332,
   "metadata": {},
   "outputs": [],
   "source": [
    "class pre_processing():\n",
    "    def __init__(self,name):\n",
    "        self.name = name\n",
    "        self.image = Image.open(self.name)\n",
    "        self.size = self.image.size\n",
    "        self.processing()\n",
    "    \n",
    "    def processing(self):\n",
    "        if (self.grayscale):\n",
    "            self.cut()\n",
    "            self.resize()\n",
    "            self.save('resized_')\n",
    "            self.rgb_image2lab_ndarray()\n",
    "    \n",
    "    def show_image(self):\n",
    "        plt.imshow(self.image)\n",
    "        plt.xticks([])\n",
    "        plt.yticks([])\n",
    "        \n",
    "    def cut(self):\n",
    "        size = min(self.size)\n",
    "        self.image = self.image.crop((0,0,size,size))\n",
    "    \n",
    "    def resize(self):\n",
    "        self.image = self.image.resize((128,128),Image.ANTIALIAS)\n",
    "    \n",
    "    def save(self,info):\n",
    "        self.image.save(info+self.name+'.jpeg')\n",
    "    \n",
    "    def grayscale(self):\n",
    "        return (self.image.getbands()[0]=='L')\n",
    "    \n",
    "    def image_rgb2lab(self):\n",
    "        rgb2xyz = (0.412453, 0.357580, 0.180423, 0,\n",
    "                   0.212671, 0.715160, 0.072169, 0,\n",
    "                   0.019334, 0.119193, 0.950227, 0)\n",
    "        self.image = self.image.convert('RGB', rgb2xyz)\n",
    "        \n",
    "    def image_lab2rgb(im):\n",
    "        lab2rgb = ( 2.9515373,-1.2894116,-0.4738445,0,\n",
    "                   -1.0851093, 1.9908566, 0.0372026,0,\n",
    "                    0.0854934,-0.2694964, 1.0912975,0)\n",
    "        self.image = self.image.convert('RGB',lab2rgb)\n",
    "    \n",
    "    def tuple_rgb2lab(self,tuple_):\n",
    "        r, g, b = tuple_\n",
    "        rgb = sRGBColor(r, g, b, is_upscaled=True)\n",
    "        return convert_color(rgb,LabColor).get_value_tuple()\n",
    "    \n",
    "    def tuple_lab2rgb(self,tuple_):\n",
    "        l, a, b = tuple_\n",
    "        lab = LabColor(l, a, b)\n",
    "        return convert_color(lab, sRGBColor).get_upscaled_value_tuple()\n",
    "    \n",
    "    def slicing(self,serie,n):\n",
    "        return [list(serie[i*n:(i+1)*n])for i in range(n)]\n",
    "    \n",
    "    def save_ndarray(self,ndarray):\n",
    "        np.save(self.name+'.npy',ndarray)\n",
    "    \n",
    "    def rgb_image2lab_ndarray(self):\n",
    "        data = pd.DataFrame()\n",
    "        data['RGB'] = list(self.image.getdata())\n",
    "        data['Lab'] = data['RGB'].apply(num_rgb2lab)\n",
    "        self.save_ndarray(self.series2ndarray(data['Lab']))\n",
    "    \n",
    "    def series2ndarray(self,data):\n",
    "        size = int(math.sqrt(len(data)))\n",
    "        data = pd.DataFrame(list(data))\n",
    "        data_0 = self.slicing(data[0],size)\n",
    "        data_1 = self.slicing(data[1],size)\n",
    "        data_2 = self.slicing(data[2],size)\n",
    "        data = np.array([data_0,data_1,data_2])\n",
    "        return np.ndarray(shape=(3,size,size),buffer=data,dtype=float)\n",
    "    \n",
    "    def load_ndarray(self,name):\n",
    "        return np.load(name)\n",
    "    \n",
    "\n"
   ]
  },
  {
   "cell_type": "code",
   "execution_count": null,
   "metadata": {},
   "outputs": [],
   "source": []
  },
  {
   "cell_type": "code",
   "execution_count": 322,
   "metadata": {},
   "outputs": [],
   "source": [
    "    def grayscale(self):\n",
    "        return (self.image.getbands()[0]=='L')"
   ]
  },
  {
   "cell_type": "code",
   "execution_count": 323,
   "metadata": {},
   "outputs": [],
   "source": [
    "    def cut(self):\n",
    "        size = min(self.size)\n",
    "        self.image = self.image.crop((0,0,size,size))"
   ]
  },
  {
   "cell_type": "code",
   "execution_count": 324,
   "metadata": {},
   "outputs": [],
   "source": [
    "    def resize(self):\n",
    "        self.image = self.image.resize((128,128),Image.ANTIALIAS)"
   ]
  },
  {
   "cell_type": "code",
   "execution_count": 325,
   "metadata": {},
   "outputs": [],
   "source": [
    "    #Função para mostrar as imagens\n",
    "    def show_image(self):\n",
    "        plt.imshow(self.image)\n",
    "        plt.xticks([])\n",
    "        plt.yticks([])\n"
   ]
  },
  {
   "cell_type": "code",
   "execution_count": 333,
   "metadata": {},
   "outputs": [],
   "source": [
    "if __name__ == \"__main__\":\n",
    "    im = pre_processing('clr_t1.jpeg')\n",
    "    "
   ]
  },
  {
   "cell_type": "code",
   "execution_count": 11,
   "metadata": {},
   "outputs": [],
   "source": [
    "def image_rgb2lab(im):\n",
    "    rgb2xyz = (0.412453, 0.357580, 0.180423, 0,\n",
    "               0.212671, 0.715160, 0.072169, 0,\n",
    "               0.019334, 0.119193, 0.950227, 0)\n",
    "    return im.convert('RGB', rgb2xyz)\n",
    "    #return ImageCms.buildTransform(im, ImageCms.createProfile(\"sRGB\"), ImageCms.createProfile(\"LAB\"))"
   ]
  },
  {
   "cell_type": "code",
   "execution_count": 12,
   "metadata": {},
   "outputs": [],
   "source": [
    "def image_lab2rgb(im):\n",
    "    lab2rgb = ( 2.9515373,-1.2894116,-0.4738445,0,\n",
    "               -1.0851093, 1.9908566, 0.0372026,0,\n",
    "                0.0854934,-0.2694964, 1.0912975,0)\n",
    "    return im.convert('RGB',lab2rgb)"
   ]
  },
  {
   "cell_type": "code",
   "execution_count": 178,
   "metadata": {},
   "outputs": [],
   "source": [
    "def tuple_rgb2lab(tuple_):\n",
    "    r, g, b = tuple_\n",
    "    rgb = sRGBColor(r, g, b, is_upscaled=True)\n",
    "    return convert_color(rgb,LabColor).get_value_tuple()"
   ]
  },
  {
   "cell_type": "code",
   "execution_count": 179,
   "metadata": {},
   "outputs": [],
   "source": [
    "def slicing(serie,n):\n",
    "    return [list(serie[i*n:(i+1)*n])for i in range(n)]"
   ]
  },
  {
   "cell_type": "code",
   "execution_count": 180,
   "metadata": {},
   "outputs": [],
   "source": [
    "def tuple_lab2rgb(tuple_):\n",
    "    l, a, b = tuple_\n",
    "    lab = LabColor(l, a, b)\n",
    "    return convert_color(lab, sRGBColor).get_upscaled_value_tuple()"
   ]
  },
  {
   "cell_type": "code",
   "execution_count": null,
   "metadata": {},
   "outputs": [],
   "source": []
  },
  {
   "cell_type": "code",
   "execution_count": 16,
   "metadata": {},
   "outputs": [],
   "source": [
    "def np_arrayLab(data):\n",
    "    rgbs = pd.DataFrame(list(data),columns=['L','a','b'])\n",
    "    print(rgbs.head(10))\n",
    "    n = int(math.sqrt(len(rgbs['L'])))\n",
    "    return np.array([slicing(rgbs['L'],n),slicing(rgbs['a'],n),slicing(rgbs['b'],n)])"
   ]
  },
  {
   "cell_type": "code",
   "execution_count": 114,
   "metadata": {},
   "outputs": [],
   "source": [
    "def rgb2lab_ndarray(im):\n",
    "    nome = 'teste'\n",
    "    data = pd.DataFrame(list(im.getdata()),columns=['RGB'])\n",
    "    data['RGB'] = list(im.getdata())\n",
    "    data['Lab'] = data['RGB'].apply(num_rgb2lab)\n",
    "    array = np_arrayLab(data['Lab'])\n",
    "    return array\n",
    "    \n",
    "    "
   ]
  },
  {
   "cell_type": "code",
   "execution_count": 115,
   "metadata": {},
   "outputs": [],
   "source": [
    "def save_ndarray(ndarray):\n",
    "    np.save('3dsave.npy',ndarray)"
   ]
  },
  {
   "cell_type": "code",
   "execution_count": 149,
   "metadata": {},
   "outputs": [],
   "source": [
    "def rgb_image2lab_ndarray(im):\n",
    "    data = pd.DataFrame()\n",
    "    data['RGB'] = list(im.getdata())\n",
    "    data['Lab'] = data['RGB'].apply(num_rgb2lab)\n",
    "    #save\n",
    "    return series2ndarray(data['Lab'])"
   ]
  },
  {
   "cell_type": "code",
   "execution_count": 150,
   "metadata": {},
   "outputs": [],
   "source": [
    "def series2ndarray(data):\n",
    "    size = int(math.sqrt(len(data)))\n",
    "    data = pd.DataFrame(list(data))\n",
    "    data_0 = slicing(data[0],size)\n",
    "    data_1 = slicing(data[1],size)\n",
    "    data_2 = slicing(data[2],size)\n",
    "    data = np.array([data_0,data_1,data_2])\n",
    "    return np.ndarray(shape=(3,size,size),buffer=data,dtype=float)"
   ]
  },
  {
   "cell_type": "code",
   "execution_count": 116,
   "metadata": {},
   "outputs": [],
   "source": [
    "def load_ndarray(name):\n",
    "    return np.load(name)"
   ]
  },
  {
   "cell_type": "code",
   "execution_count": null,
   "metadata": {},
   "outputs": [],
   "source": []
  },
  {
   "cell_type": "code",
   "execution_count": 139,
   "metadata": {},
   "outputs": [],
   "source": [
    "im = Image.open('clr_t1.jpeg')\n",
    "im = resize(cut(im))"
   ]
  },
  {
   "cell_type": "code",
   "execution_count": 274,
   "metadata": {},
   "outputs": [],
   "source": [
    "def ndarray2series(data):\n",
    "    data_0 = np.asarray(data[0]).reshape(-1)\n",
    "    data_1 = np.asarray(data[1]).reshape(-1)\n",
    "    data_2 = np.asarray(data[2]).reshape(-1)\n",
    "    data = pd.DataFrame()\n",
    "    data['Lab'] = list(list(data_0, data_1,data_2))\n",
    "    #print(data['Lab'])\n",
    "    return data['Lab']"
   ]
  },
  {
   "cell_type": "code",
   "execution_count": 278,
   "metadata": {},
   "outputs": [],
   "source": [
    "def lab_ndarray2rgb_image(array):\n",
    "    #ndarray = load_ndarray(name)\n",
    "    print(array)\n",
    "    img = Image.fromarray(array, 'RGB')\n",
    "    #img.save('my.png')\n",
    "    img.show()"
   ]
  },
  {
   "cell_type": "code",
   "execution_count": 279,
   "metadata": {},
   "outputs": [],
   "source": [
    "def array2PIL(arr, size):\n",
    "    mode = 'RGB'\n",
    "    arr = arr.reshape(arr.shape[0]*arr.shape[1], arr.shape[2])\n",
    "    if len(arr[0]) == 3:\n",
    "        arr = np.c_[arr, 255*np.ones((len(arr),1), np.uint8)]\n",
    "    return Image.frombuffer(mode, size, arr.tostring(), 'raw', mode, 0, 1) "
   ]
  },
  {
   "cell_type": "code",
   "execution_count": 280,
   "metadata": {},
   "outputs": [
    {
     "name": "stdout",
     "output_type": "stream",
     "text": [
      "[[[0.05830464 0.         0.         ... 0.         0.         0.        ]\n",
      "  [0.         0.         0.         ... 0.         0.         0.        ]\n",
      "  [0.         0.         0.         ... 0.         0.         0.        ]\n",
      "  ...\n",
      "  [0.         0.         0.         ... 0.         0.         0.        ]\n",
      "  [0.         0.         0.         ... 0.         0.         0.        ]\n",
      "  [0.         0.         0.         ... 0.         0.         0.        ]]\n",
      "\n",
      " [[0.26148098 0.         0.         ... 0.         0.         0.        ]\n",
      "  [0.         0.         0.         ... 0.         0.         0.        ]\n",
      "  [0.         0.         0.         ... 0.         0.         0.        ]\n",
      "  ...\n",
      "  [0.         0.         0.         ... 0.         0.         0.        ]\n",
      "  [0.         0.         0.         ... 0.         0.         0.        ]\n",
      "  [0.         0.         0.         ... 0.         0.         0.        ]]\n",
      "\n",
      " [[0.09213212 0.         0.         ... 0.         0.         0.        ]\n",
      "  [0.         0.         0.         ... 0.         0.         0.        ]\n",
      "  [0.         0.         0.         ... 0.         0.         0.        ]\n",
      "  ...\n",
      "  [0.         0.         0.         ... 0.         0.         0.        ]\n",
      "  [0.         0.         0.         ... 0.         0.         0.        ]\n",
      "  [0.         0.         0.         ... 0.         0.         0.        ]]]\n"
     ]
    }
   ],
   "source": [
    "lab_ndarray2rgb_image(rgb_image2lab_ndarray(im))"
   ]
  },
  {
   "cell_type": "code",
   "execution_count": null,
   "metadata": {},
   "outputs": [],
   "source": [
    "from PIL import Image\n",
    "import numpy as np\n",
    "\n",
    "w, h = 512, 512\n",
    "data = np.zeros((h, w, 3), dtype=np.uint8)\n",
    "data[256, 256] = [255, 0, 0]\n",
    "data[0][0][0] = 1\n",
    "print(type(data))\n",
    "img = Image.fromarray(data, 'RGB')\n",
    "img.save('my.png')\n",
    "img.show()"
   ]
  },
  {
   "cell_type": "code",
   "execution_count": 272,
   "metadata": {},
   "outputs": [
    {
     "name": "stdout",
     "output_type": "stream",
     "text": [
      "3\n"
     ]
    }
   ],
   "source": [
    "im = Image.open('my.png')\n",
    "print(len(data[0][0]))\n",
    "#print(list(im.getdata()))"
   ]
  },
  {
   "cell_type": "code",
   "execution_count": null,
   "metadata": {},
   "outputs": [],
   "source": []
  },
  {
   "cell_type": "code",
   "execution_count": null,
   "metadata": {},
   "outputs": [],
   "source": []
  }
 ],
 "metadata": {
  "kernelspec": {
   "display_name": "Python 3",
   "language": "python",
   "name": "python3"
  },
  "language_info": {
   "codemirror_mode": {
    "name": "ipython",
    "version": 3
   },
   "file_extension": ".py",
   "mimetype": "text/x-python",
   "name": "python",
   "nbconvert_exporter": "python",
   "pygments_lexer": "ipython3",
   "version": "3.6.4"
  }
 },
 "nbformat": 4,
 "nbformat_minor": 2
}
