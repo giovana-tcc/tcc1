{
 "cells": [
  {
   "cell_type": "markdown",
   "metadata": {
    "colab_type": "text",
    "id": "an8mmeNAkhsq"
   },
   "source": [
    "# Jupyter Notebook para implementação de CNNs utilizando CIFAR-10\n",
    "### Testes com Keras e modelos de CNNs propostos por  Buduma em Fundamentals of Deep Learning - página 100"
   ]
  },
  {
   "cell_type": "code",
   "execution_count": 1,
   "metadata": {
    "colab": {
     "autoexec": {
      "startup": false,
      "wait_interval": 0
     },
     "base_uri": "https://localhost:8080/",
     "height": 34
    },
    "colab_type": "code",
    "executionInfo": {
     "elapsed": 8946,
     "status": "ok",
     "timestamp": 1528310947015,
     "user": {
      "displayName": "Giovana de Lucca",
      "photoUrl": "//lh6.googleusercontent.com/-_T10o8bYi1k/AAAAAAAAAAI/AAAAAAAAAws/4hbxiWfRsIU/s50-c-k-no/photo.jpg",
      "userId": "117997264236604396640"
     },
     "user_tz": 240
    },
    "id": "O8pxJ42rnPUO",
    "outputId": "15ee1b2e-78f4-4bbe-8615-16bffa3e5fbb"
   },
   "outputs": [
    {
     "name": "stderr",
     "output_type": "stream",
     "text": [
      "Using TensorFlow backend.\n"
     ]
    }
   ],
   "source": [
    "import keras\n",
    "from keras.models import Sequential\n",
    "from keras.layers import Conv2D, MaxPooling2D, Flatten, Dense"
   ]
  },
  {
   "cell_type": "markdown",
   "metadata": {
    "colab_type": "text",
    "id": "ND8sFHcNkCBP"
   },
   "source": [
    "### **Dataset CIFAR-10**\n",
    "\n",
    "Importação do dataset\n",
    "\n",
    "Separação para treinamento e testes\n"
   ]
  },
  {
   "cell_type": "code",
   "execution_count": 0,
   "metadata": {
    "colab": {
     "autoexec": {
      "startup": false,
      "wait_interval": 0
     }
    },
    "colab_type": "code",
    "id": "WTICF6IbvzEn"
   },
   "outputs": [],
   "source": [
    "from keras.datasets import cifar10\n",
    "(x_train, y_train), (x_test, y_test) = cifar10.load_data()"
   ]
  },
  {
   "cell_type": "markdown",
   "metadata": {
    "colab_type": "text",
    "id": "wqHCFAR6lHQy"
   },
   "source": [
    "### **Categorical**\n",
    "\n",
    "Formatação do atributo-alvo\n"
   ]
  },
  {
   "cell_type": "code",
   "execution_count": 0,
   "metadata": {
    "colab": {
     "autoexec": {
      "startup": false,
      "wait_interval": 0
     }
    },
    "colab_type": "code",
    "id": "-ErzTaORL-DJ"
   },
   "outputs": [],
   "source": [
    "y_train = keras.utils.to_categorical(y_train, 10)\n",
    "y_test = keras.utils.to_categorical(y_test, 10)"
   ]
  },
  {
   "cell_type": "markdown",
   "metadata": {
    "colab_type": "text",
    "id": "vi0mv_hklUgO"
   },
   "source": [
    "### **Função F-score**\n",
    "\n",
    "Implementação braçal da função F-score"
   ]
  },
  {
   "cell_type": "code",
   "execution_count": 0,
   "metadata": {
    "colab": {
     "autoexec": {
      "startup": false,
      "wait_interval": 0
     }
    },
    "colab_type": "code",
    "id": "L-VR9XchJs4T"
   },
   "outputs": [],
   "source": [
    "from keras import backend as K\n",
    "\n",
    "def f1(y_true, y_pred):\n",
    "    def recall(y_true, y_pred):\n",
    "        true_positives = K.sum(K.round(K.clip(y_true * y_pred, 0, 1)))\n",
    "        possible_positives = K.sum(K.round(K.clip(y_true, 0, 1)))\n",
    "        recall = true_positives / (possible_positives + K.epsilon())\n",
    "        return recall\n",
    "    def precision(y_true, y_pred):\n",
    "        true_positives = K.sum(K.round(K.clip(y_true * y_pred, 0, 1)))\n",
    "        predicted_positives = K.sum(K.round(K.clip(y_pred, 0, 1)))\n",
    "        precision = true_positives / (predicted_positives + K.epsilon())\n",
    "        return precision\n",
    "    precision = precision(y_true, y_pred)\n",
    "    recall = recall(y_true, y_pred)\n",
    "    return 2*((precision*recall)/(precision+recall+K.epsilon()))"
   ]
  },
  {
   "cell_type": "markdown",
   "metadata": {
    "colab_type": "text",
    "id": "OQT1X2Z4lTQb"
   },
   "source": [
    "### **Primeira rede**\n",
    "\n",
    "Input - conv - fc - softmax\n"
   ]
  },
  {
   "cell_type": "code",
   "execution_count": 0,
   "metadata": {
    "colab": {
     "autoexec": {
      "startup": false,
      "wait_interval": 0
     }
    },
    "colab_type": "code",
    "id": "DJQAE5_MINqI"
   },
   "outputs": [],
   "source": [
    "#rede\n",
    "model = Sequential()\n",
    "model.add(Conv2D(32, kernel_size=(5, 5), strides=(1, 1),activation='relu',input_shape=(32,32,3))) #conv1\n",
    "model.add(Flatten()) #achatamento\n",
    "model.add(Dense(1000, activation='relu')) #camada conectada\n",
    "model.add(Dense(10,activation='softmax')) #softmax"
   ]
  },
  {
   "cell_type": "code",
   "execution_count": 32,
   "metadata": {
    "colab": {
     "autoexec": {
      "startup": false,
      "wait_interval": 0
     },
     "base_uri": "https://localhost:8080/",
     "height": 386
    },
    "colab_type": "code",
    "executionInfo": {
     "elapsed": 353919,
     "status": "ok",
     "timestamp": 1528312746131,
     "user": {
      "displayName": "Giovana de Lucca",
      "photoUrl": "//lh6.googleusercontent.com/-_T10o8bYi1k/AAAAAAAAAAI/AAAAAAAAAws/4hbxiWfRsIU/s50-c-k-no/photo.jpg",
      "userId": "117997264236604396640"
     },
     "user_tz": 240
    },
    "id": "9hkmt8yKdyIa",
    "outputId": "74329393-7b18-4036-92c4-9a512d813287"
   },
   "outputs": [
    {
     "name": "stdout",
     "output_type": "stream",
     "text": [
      "Train on 50000 samples, validate on 10000 samples\n",
      "Epoch 1/10\n",
      " - 36s - loss: 0.1800 - f1: 0.1000 - acc: 0.1000 - val_loss: 0.1800 - val_f1: 0.1000 - val_acc: 0.1000\n",
      "Epoch 2/10\n",
      " - 35s - loss: 0.1800 - f1: 0.1000 - acc: 0.1000 - val_loss: 0.1800 - val_f1: 0.1000 - val_acc: 0.1000\n",
      "Epoch 3/10\n",
      " - 35s - loss: 0.1800 - f1: 0.1000 - acc: 0.1000 - val_loss: 0.1800 - val_f1: 0.1000 - val_acc: 0.1000\n",
      "Epoch 4/10\n",
      " - 35s - loss: 0.1800 - f1: 0.1000 - acc: 0.1000 - val_loss: 0.1800 - val_f1: 0.1000 - val_acc: 0.1000\n",
      "Epoch 5/10\n",
      " - 35s - loss: 0.1800 - f1: 0.1000 - acc: 0.1000 - val_loss: 0.1800 - val_f1: 0.1000 - val_acc: 0.1000\n",
      "Epoch 6/10\n",
      " - 35s - loss: 0.1800 - f1: 0.1000 - acc: 0.1000 - val_loss: 0.1800 - val_f1: 0.1000 - val_acc: 0.1000\n",
      "Epoch 7/10\n",
      " - 35s - loss: 0.1800 - f1: 0.1000 - acc: 0.1000 - val_loss: 0.1800 - val_f1: 0.1000 - val_acc: 0.1000\n",
      "Epoch 8/10\n",
      " - 35s - loss: 0.1800 - f1: 0.1000 - acc: 0.1000 - val_loss: 0.1800 - val_f1: 0.1000 - val_acc: 0.1000\n",
      "Epoch 9/10\n",
      " - 35s - loss: 0.1800 - f1: 0.1000 - acc: 0.1000 - val_loss: 0.1800 - val_f1: 0.1000 - val_acc: 0.1000\n",
      "Epoch 10/10\n",
      " - 35s - loss: 0.1800 - f1: 0.1000 - acc: 0.1000 - val_loss: 0.1800 - val_f1: 0.1000 - val_acc: 0.1000\n"
     ]
    },
    {
     "data": {
      "text/plain": [
       "<keras.callbacks.History at 0x7f214a4a6f28>"
      ]
     },
     "execution_count": 32,
     "metadata": {
      "tags": []
     },
     "output_type": "execute_result"
    }
   ],
   "source": [
    "#treinamento\n",
    "model.compile(loss='mse', optimizer=keras.optimizers.SGD(lr=0.01), metrics=[f1, 'accuracy'])\n",
    "model.fit(x_train, y_train, batch_size=32, epochs=10, verbose=2, validation_data=(x_test, y_test))"
   ]
  },
  {
   "cell_type": "code",
   "execution_count": 33,
   "metadata": {
    "colab": {
     "autoexec": {
      "startup": false,
      "wait_interval": 0
     },
     "base_uri": "https://localhost:8080/",
     "height": 151
    },
    "colab_type": "code",
    "executionInfo": {
     "elapsed": 1563,
     "status": "ok",
     "timestamp": 1528312747855,
     "user": {
      "displayName": "Giovana de Lucca",
      "photoUrl": "//lh6.googleusercontent.com/-_T10o8bYi1k/AAAAAAAAAAI/AAAAAAAAAws/4hbxiWfRsIU/s50-c-k-no/photo.jpg",
      "userId": "117997264236604396640"
     },
     "user_tz": 240
    },
    "id": "ewKkIf2CcFy5",
    "outputId": "e7491f28-e695-4951-b96b-3228c37493a9"
   },
   "outputs": [
    {
     "name": "stdout",
     "output_type": "stream",
     "text": [
      "10000/10000 [==============================] - 1s 78us/step\n",
      "CNN_1\n",
      "\n",
      "Loss: 0.18000000381469727\n",
      "\n",
      "F-score: 0.09999995214939117\n",
      "\n",
      "Acurácia: 0.1\n"
     ]
    }
   ],
   "source": [
    "#análise dos resultados\n",
    "loss, f_score, accuracy = model.evaluate(x_test, y_test, batch_size=128)\n",
    "print('CNN_1')\n",
    "print('\\nLoss:',loss)\n",
    "print('\\nF-score:',f_score)\n",
    "print('\\nAcurácia:',accuracy)"
   ]
  },
  {
   "cell_type": "markdown",
   "metadata": {
    "colab_type": "text",
    "id": "_2vkZ9EMkAaG"
   },
   "source": [
    "### **Segunda rede**\n",
    "\n",
    "Input - (conv - pool)x2 - fc - softmax"
   ]
  },
  {
   "cell_type": "code",
   "execution_count": 0,
   "metadata": {
    "colab": {
     "autoexec": {
      "startup": false,
      "wait_interval": 0
     }
    },
    "colab_type": "code",
    "id": "Gq0yeGA-oyTK"
   },
   "outputs": [],
   "source": [
    "#rede\n",
    "model = Sequential()\n",
    "model.add(Conv2D(32, kernel_size=(5, 5), strides=(1, 1),activation='relu',input_shape=(32,32,3))) #conv1\n",
    "model.add(MaxPooling2D(pool_size=(2, 2), strides=(2, 2))) #pool1\n",
    "model.add(Conv2D(64, kernel_size=(5, 5), strides=(1, 1),activation='relu')) #conv2\n",
    "model.add(MaxPooling2D(pool_size=(2, 2))) #pool2\n",
    "model.add(Flatten()) #achatamento\n",
    "model.add(Dense(1000, activation='relu')) #camada conectada\n",
    "model.add(Dense(10,activation='softmax')) #softmax"
   ]
  },
  {
   "cell_type": "code",
   "execution_count": 35,
   "metadata": {
    "colab": {
     "autoexec": {
      "startup": false,
      "wait_interval": 0
     },
     "base_uri": "https://localhost:8080/",
     "height": 386
    },
    "colab_type": "code",
    "executionInfo": {
     "elapsed": 160058,
     "status": "ok",
     "timestamp": 1528312909311,
     "user": {
      "displayName": "Giovana de Lucca",
      "photoUrl": "//lh6.googleusercontent.com/-_T10o8bYi1k/AAAAAAAAAAI/AAAAAAAAAws/4hbxiWfRsIU/s50-c-k-no/photo.jpg",
      "userId": "117997264236604396640"
     },
     "user_tz": 240
    },
    "id": "g8jprCO5pJiH",
    "outputId": "66bf6616-8789-4da6-f66d-e58f904ec858"
   },
   "outputs": [
    {
     "name": "stdout",
     "output_type": "stream",
     "text": [
      "Train on 50000 samples, validate on 10000 samples\n",
      "Epoch 1/10\n",
      " - 16s - loss: 0.1799 - f1: 0.1001 - acc: 0.1001 - val_loss: 0.1800 - val_f1: 0.1000 - val_acc: 0.1000\n",
      "Epoch 2/10\n",
      " - 16s - loss: 0.1800 - f1: 0.1000 - acc: 0.1000 - val_loss: 0.1800 - val_f1: 0.1000 - val_acc: 0.1000\n",
      "Epoch 3/10\n",
      " - 16s - loss: 0.1800 - f1: 0.1000 - acc: 0.1000 - val_loss: 0.1800 - val_f1: 0.1000 - val_acc: 0.1000\n",
      "Epoch 4/10\n",
      " - 16s - loss: 0.1800 - f1: 0.1000 - acc: 0.1000 - val_loss: 0.1800 - val_f1: 0.1000 - val_acc: 0.1000\n",
      "Epoch 5/10\n",
      " - 16s - loss: 0.1800 - f1: 0.1000 - acc: 0.1000 - val_loss: 0.1799 - val_f1: 0.1002 - val_acc: 0.1002\n",
      "Epoch 6/10\n",
      " - 16s - loss: 0.1799 - f1: 0.1001 - acc: 0.1001 - val_loss: 0.1800 - val_f1: 0.1001 - val_acc: 0.1001\n",
      "Epoch 7/10\n",
      " - 16s - loss: 0.1789 - f1: 0.1030 - acc: 0.1030 - val_loss: 0.1798 - val_f1: 0.1001 - val_acc: 0.1001\n",
      "Epoch 8/10\n",
      " - 16s - loss: 0.1396 - f1: 0.0669 - acc: 0.1083 - val_loss: 0.0901 - val_f1: 3.8788e-04 - val_acc: 0.1135\n",
      "Epoch 9/10\n",
      " - 16s - loss: 0.0900 - f1: 9.3091e-04 - acc: 0.1249 - val_loss: 0.0898 - val_f1: 7.7576e-04 - val_acc: 0.1435\n",
      "Epoch 10/10\n",
      " - 16s - loss: 0.0888 - f1: 0.0074 - acc: 0.1700 - val_loss: 0.0862 - val_f1: 0.0416 - val_acc: 0.2154\n"
     ]
    },
    {
     "data": {
      "text/plain": [
       "<keras.callbacks.History at 0x7f2144271da0>"
      ]
     },
     "execution_count": 35,
     "metadata": {
      "tags": []
     },
     "output_type": "execute_result"
    }
   ],
   "source": [
    "#treinamento\n",
    "model.compile(loss='mse', optimizer=keras.optimizers.SGD(lr=0.01), metrics=[f1, 'accuracy'])\n",
    "model.fit(x_train, y_train, batch_size=32, epochs=10, verbose=2, validation_data=(x_test, y_test))"
   ]
  },
  {
   "cell_type": "code",
   "execution_count": 36,
   "metadata": {
    "colab": {
     "autoexec": {
      "startup": false,
      "wait_interval": 0
     },
     "base_uri": "https://localhost:8080/",
     "height": 151
    },
    "colab_type": "code",
    "executionInfo": {
     "elapsed": 1320,
     "status": "ok",
     "timestamp": 1528312910721,
     "user": {
      "displayName": "Giovana de Lucca",
      "photoUrl": "//lh6.googleusercontent.com/-_T10o8bYi1k/AAAAAAAAAAI/AAAAAAAAAws/4hbxiWfRsIU/s50-c-k-no/photo.jpg",
      "userId": "117997264236604396640"
     },
     "user_tz": 240
    },
    "id": "7uYOE3HSdfYK",
    "outputId": "fe909d43-be3d-4fec-e08d-24b30fcbb0cb"
   },
   "outputs": [
    {
     "name": "stdout",
     "output_type": "stream",
     "text": [
      "10000/10000 [==============================] - 1s 60us/step\n",
      "CNN_2\n",
      "\n",
      "Loss: 0.08618539561033249\n",
      "\n",
      "F-score: 0.04235365470647812\n",
      "\n",
      "Acurácia: 0.2154\n"
     ]
    }
   ],
   "source": [
    "#análise dos resultados\n",
    "loss, f_score, accuracy = model.evaluate(x_test, y_test, batch_size=128)\n",
    "print('CNN_2')\n",
    "print('\\nLoss:',loss)\n",
    "print('\\nF-score:',f_score)\n",
    "print('\\nAcurácia:',accuracy)"
   ]
  },
  {
   "cell_type": "markdown",
   "metadata": {
    "colab_type": "text",
    "id": "6Uh0W6Slpm1J"
   },
   "source": [
    "### **Terceira rede**\n",
    "\n",
    "Input - (conv -conv - pool)x3 - fc - fc - softmax"
   ]
  },
  {
   "cell_type": "code",
   "execution_count": 0,
   "metadata": {
    "colab": {
     "autoexec": {
      "startup": false,
      "wait_interval": 0
     }
    },
    "colab_type": "code",
    "id": "dW3JF_UQhSKW"
   },
   "outputs": [],
   "source": [
    "#rede\n",
    "model = Sequential()\n",
    "model.add(Conv2D(32, kernel_size=(3, 3), strides=(1, 1),activation='relu',input_shape=(32,32,3))) #conv1\n",
    "model.add(Conv2D(32, kernel_size=(3, 3), strides=(1, 1),activation='relu')) #conv2\n",
    "model.add(MaxPooling2D(pool_size=(1, 1), strides=(2, 2))) #pool1\n",
    "model.add(Conv2D(32, kernel_size=(3, 3), strides=(1, 1),activation='relu')) #conv3\n",
    "model.add(Conv2D(32, kernel_size=(3, 3), strides=(1, 1),activation='relu')) #conv4\n",
    "model.add(MaxPooling2D(pool_size=(1, 1))) #pool2\n",
    "model.add(Conv2D(32, kernel_size=(3, 3), strides=(1, 1),activation='relu')) #conv5\n",
    "model.add(Conv2D(32, kernel_size=(3, 3), strides=(1, 1),activation='relu')) #conv6\n",
    "model.add(MaxPooling2D(pool_size=(1, 1))) #pool3\n",
    "model.add(Flatten()) #achatamento\n",
    "model.add(Dense(1000, activation='relu')) #camada conectada\n",
    "model.add(Dense(1000, activation='relu')) #camada conectada\n",
    "model.add(Dense(10,activation='softmax')) #softmax"
   ]
  },
  {
   "cell_type": "code",
   "execution_count": 38,
   "metadata": {
    "colab": {
     "autoexec": {
      "startup": false,
      "wait_interval": 0
     },
     "base_uri": "https://localhost:8080/",
     "height": 386
    },
    "colab_type": "code",
    "executionInfo": {
     "elapsed": 210570,
     "status": "ok",
     "timestamp": 1528313122565,
     "user": {
      "displayName": "Giovana de Lucca",
      "photoUrl": "//lh6.googleusercontent.com/-_T10o8bYi1k/AAAAAAAAAAI/AAAAAAAAAws/4hbxiWfRsIU/s50-c-k-no/photo.jpg",
      "userId": "117997264236604396640"
     },
     "user_tz": 240
    },
    "id": "Jy4-U9aih1ru",
    "outputId": "43f3754e-e1f5-4f31-ac67-d7b5af8549e3"
   },
   "outputs": [
    {
     "name": "stdout",
     "output_type": "stream",
     "text": [
      "Train on 50000 samples, validate on 10000 samples\n",
      "Epoch 1/10\n",
      " - 22s - loss: 0.0848 - f1: 0.0396 - acc: 0.2432 - val_loss: 0.0823 - val_f1: 0.1232 - val_acc: 0.2997\n",
      "Epoch 2/10\n",
      " - 21s - loss: 0.0785 - f1: 0.1343 - acc: 0.3411 - val_loss: 0.0772 - val_f1: 0.1724 - val_acc: 0.3517\n",
      "Epoch 3/10\n",
      " - 21s - loss: 0.0758 - f1: 0.1936 - acc: 0.3708 - val_loss: 0.0750 - val_f1: 0.2123 - val_acc: 0.3849\n",
      "Epoch 4/10\n",
      " - 21s - loss: 0.0737 - f1: 0.2371 - acc: 0.3978 - val_loss: 0.0739 - val_f1: 0.1911 - val_acc: 0.3942\n",
      "Epoch 5/10\n",
      " - 21s - loss: 0.0719 - f1: 0.2705 - acc: 0.4167 - val_loss: 0.0753 - val_f1: 0.2760 - val_acc: 0.3821\n",
      "Epoch 6/10\n",
      " - 21s - loss: 0.0706 - f1: 0.2953 - acc: 0.4304 - val_loss: 0.0703 - val_f1: 0.3000 - val_acc: 0.4350\n",
      "Epoch 7/10\n",
      " - 21s - loss: 0.0691 - f1: 0.3234 - acc: 0.4448 - val_loss: 0.0723 - val_f1: 0.3264 - val_acc: 0.4134\n",
      "Epoch 8/10\n",
      " - 21s - loss: 0.0680 - f1: 0.3430 - acc: 0.4580 - val_loss: 0.0682 - val_f1: 0.3527 - val_acc: 0.4535\n",
      "Epoch 9/10\n",
      " - 21s - loss: 0.0667 - f1: 0.3660 - acc: 0.4721 - val_loss: 0.0699 - val_f1: 0.3455 - val_acc: 0.4369\n",
      "Epoch 10/10\n",
      " - 21s - loss: 0.0655 - f1: 0.3871 - acc: 0.4816 - val_loss: 0.0705 - val_f1: 0.3620 - val_acc: 0.4342\n"
     ]
    },
    {
     "data": {
      "text/plain": [
       "<keras.callbacks.History at 0x7f214aff0b38>"
      ]
     },
     "execution_count": 38,
     "metadata": {
      "tags": []
     },
     "output_type": "execute_result"
    }
   ],
   "source": [
    "#treinamento\n",
    "model.compile(loss='mse', optimizer=keras.optimizers.SGD(lr=0.01), metrics=[f1, 'accuracy'])\n",
    "model.fit(x_train, y_train, batch_size=32, epochs=10, verbose=2, validation_data=(x_test, y_test))"
   ]
  },
  {
   "cell_type": "code",
   "execution_count": 39,
   "metadata": {
    "colab": {
     "autoexec": {
      "startup": false,
      "wait_interval": 0
     },
     "base_uri": "https://localhost:8080/",
     "height": 151
    },
    "colab_type": "code",
    "executionInfo": {
     "elapsed": 1267,
     "status": "ok",
     "timestamp": 1528313123959,
     "user": {
      "displayName": "Giovana de Lucca",
      "photoUrl": "//lh6.googleusercontent.com/-_T10o8bYi1k/AAAAAAAAAAI/AAAAAAAAAws/4hbxiWfRsIU/s50-c-k-no/photo.jpg",
      "userId": "117997264236604396640"
     },
     "user_tz": 240
    },
    "id": "Dlp74Zwldkq8",
    "outputId": "999f271b-071d-4d60-d99d-8c2421abcdd2"
   },
   "outputs": [
    {
     "name": "stdout",
     "output_type": "stream",
     "text": [
      "10000/10000 [==============================] - 1s 73us/step\n",
      "CNN_3\n",
      "\n",
      "Loss: 0.07048124667406082\n",
      "\n",
      "F-score: 0.36475295453071593\n",
      "\n",
      "Acurácia: 0.4342\n"
     ]
    }
   ],
   "source": [
    "#análise dos resultados\n",
    "loss, f_score, accuracy = model.evaluate(x_test, y_test, batch_size=128)\n",
    "print('CNN_3')\n",
    "print('\\nLoss:',loss)\n",
    "print('\\nF-score:',f_score)\n",
    "print('\\nAcurácia:',accuracy)"
   ]
  },
  {
   "cell_type": "markdown",
   "metadata": {
    "colab_type": "text",
    "id": "wUWm1xTKdmRm"
   },
   "source": [
    "### A quarta rede não foi implementada"
   ]
  }
 ],
 "metadata": {
  "accelerator": "GPU",
  "colab": {
   "collapsed_sections": [],
   "default_view": {},
   "name": "CIFAR-10.ipynb",
   "provenance": [],
   "version": "0.3.2",
   "views": {}
  },
  "kernelspec": {
   "display_name": "Python 3",
   "language": "python",
   "name": "python3"
  },
  "language_info": {
   "codemirror_mode": {
    "name": "ipython",
    "version": 3
   },
   "file_extension": ".py",
   "mimetype": "text/x-python",
   "name": "python",
   "nbconvert_exporter": "python",
   "pygments_lexer": "ipython3",
   "version": "3.6.4"
  }
 },
 "nbformat": 4,
 "nbformat_minor": 1
}
