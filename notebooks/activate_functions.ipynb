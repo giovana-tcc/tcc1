{
 "cells": [
  {
   "cell_type": "markdown",
   "metadata": {},
   "source": [
    "# Jupyter Notebook para geração dos gráficos das funçãoes de ativação\n",
    "### Figura da fundamentação teórica sobre as Redes Neurais Artificiais"
   ]
  },
  {
   "cell_type": "markdown",
   "metadata": {},
   "source": [
    "#### Importação de bibliotecas"
   ]
  },
  {
   "cell_type": "code",
   "execution_count": 1,
   "metadata": {},
   "outputs": [],
   "source": [
    "import numpy as np\n",
    "import matplotlib.pyplot as plt\n",
    "import math"
   ]
  },
  {
   "cell_type": "markdown",
   "metadata": {},
   "source": [
    "#### Criação do gráfico da função tangente hiperbólica"
   ]
  },
  {
   "cell_type": "code",
   "execution_count": 5,
   "metadata": {},
   "outputs": [
    {
     "data": {
      "image/png": "[encoded data removed]",
      "text/plain": [
       "<matplotlib.figure.Figure at 0x2247736b438>"
      ]
     },
     "metadata": {},
     "output_type": "display_data"
    }
   ],
   "source": [
    "x = np.arange(-6, 6, .1)\n",
    "y = np.tanh(x)\n",
    "\n",
    "fig = plt.figure()\n",
    "ax = fig.add_subplot(111)\n",
    "ax.plot(x, y,'b')\n",
    "ax.axis([-2,2,-2,2])\n",
    "ax.axis('off')\n",
    "ax.set_title('Tangente hiperbólica')\n",
    "\n",
    "#Plano x e y\n",
    "ax.arrow(-2, 0, 3.9, 0, head_width=0.1, head_length=0.05, fc='k', ec='k')\n",
    "ax.arrow(0, -2, 0, 3.8, head_width=0.05, head_length=0.1, fc='k', ec='k')\n",
    "\n",
    "#1 em y\n",
    "ax.arrow(-0.03, 1, 0.06, 0, head_width=0, head_length=0, fc='k', ec='k')\n",
    "ax.annotate('1', xy=(0, 0), xytext=(-0.15, 0.96))\n",
    "\n",
    "#-1 em y\n",
    "ax.arrow(-0.03, -1, 0.06, 0, head_width=0, head_length=0, fc='k', ec='k')\n",
    "ax.annotate('-1', xy=(0, 0), xytext=(-0.2, -1.04))\n",
    "\n",
    "#1 em x\n",
    "ax.arrow(1, -0.05, 0, 0.1, head_width=0, head_length=0, fc='k', ec='k')\n",
    "ax.annotate('1', xy=(0, 0), xytext=(0.98, -0.25))\n",
    "\n",
    "#-1 em x\n",
    "ax.arrow(-1, -0.05, 0, 0.1, head_width=0, head_length=0, fc='k', ec='k')\n",
    "ax.annotate('-1', xy=(0, 0), xytext=(-1.07, -0.25))\n",
    "\n",
    "plt.savefig('tanh.png')\n",
    "plt.show()"
   ]
  },
  {
   "cell_type": "markdown",
   "metadata": {},
   "source": [
    "#### Criação do gráfico da função sigmóide"
   ]
  },
  {
   "cell_type": "code",
   "execution_count": 3,
   "metadata": {
    "scrolled": true
   },
   "outputs": [
    {
     "data": {
      "image/png": "[encoded data removed]",
      "text/plain": [
       "<matplotlib.figure.Figure at 0x1df4ecb9668>"
      ]
     },
     "metadata": {},
     "output_type": "display_data"
    }
   ],
   "source": [
    "x = np.arange(-5, 5, .1)\n",
    "sigma_fn = np.vectorize(lambda z: 1/(1+np.exp(-z)))\n",
    "y = sigma_fn(x)\n",
    "\n",
    "fig = plt.figure()\n",
    "ax = fig.add_subplot(111)\n",
    "ax.plot(x, y,'b')\n",
    "ax.axis([-5.5,5.5,-0.5,1.5])\n",
    "ax.axis('off')\n",
    "ax.set_title('Sigmóide')\n",
    "\n",
    "#Plano x e y\n",
    "ax.arrow(-5, 0, 10, 0, head_width=0.052, head_length=0.12, fc='k', ec='k')\n",
    "ax.arrow(0, -0.5, 0, 1.9, head_width=0.15, head_length=0.04, fc='k', ec='k')\n",
    "\n",
    "#1 em y\n",
    "ax.arrow(-0.09, 1, 0.14, 0, head_width=0, head_length=0, fc='k', ec='k')\n",
    "ax.annotate('1', xy=(0, 0), xytext=(-0.35, 0.96))\n",
    "\n",
    "#0.5 em y\n",
    "ax.annotate('0.5', xy=(0, 0), xytext=(-0.8, 0.46))\n",
    "ax.arrow(-0.09, 0.5, 0.14, 0, head_width=0, head_length=0, fc='k', ec='k')\n",
    "\n",
    "#origem\n",
    "#ax.annotate('0', xy=(0, 0), xytext=(-0.35, -0.12))\n",
    "\n",
    "#1 em x\n",
    "ax.arrow(1, -0.025, 0, 0.05, head_width=0, head_length=0, fc='k', ec='k')\n",
    "ax.annotate('1', xy=(0, 0), xytext=(0.95, -0.12))\n",
    "\n",
    "#2 em x\n",
    "ax.arrow(2, -0.025, 0, 0.05, head_width=0, head_length=0, fc='k', ec='k')\n",
    "ax.annotate('2', xy=(0, 0), xytext=(1.9, -0.12))\n",
    "\n",
    "#3 em x\n",
    "ax.arrow(3, -0.025, 0, 0.05, head_width=0, head_length=0, fc='k', ec='k')\n",
    "ax.annotate('3', xy=(0, 0), xytext=(2.92, -0.12))\n",
    "\n",
    "#4 em x\n",
    "ax.arrow(4, -0.025, 0, 0.05, head_width=0, head_length=0, fc='k', ec='k')\n",
    "ax.annotate('4', xy=(0, 0), xytext=(3.9, -0.12))\n",
    "\n",
    "#-1 em x\n",
    "ax.arrow(-1, -0.025, 0, 0.05, head_width=0, head_length=0, fc='k', ec='k')\n",
    "ax.annotate('-1', xy=(0, 0), xytext=(-1.16, -0.12))\n",
    "\n",
    "#-2 em x\n",
    "ax.arrow(-2, -0.025, 0, 0.05, head_width=0, head_length=0, fc='k', ec='k')\n",
    "ax.annotate('-2', xy=(0, 0), xytext=(-2.175, -0.12))\n",
    "\n",
    "#-3 em x\n",
    "ax.arrow(-3, -0.025, 0, 0.05, head_width=0, head_length=0, fc='k', ec='k')\n",
    "ax.annotate('-3', xy=(0, 0), xytext=(-3.17, -0.12))\n",
    "\n",
    "#-4 em x\n",
    "ax.arrow(-4, -0.025, 0, 0.05, head_width=0, head_length=0, fc='k', ec='k')\n",
    "ax.annotate('-4', xy=(0, 0), xytext=(-4.17, -0.12))\n",
    "\n",
    "plt.savefig('sigmoide.png')\n",
    "plt.show()"
   ]
  },
  {
   "cell_type": "markdown",
   "metadata": {},
   "source": [
    "#### Criação do gráfico da função retificada linear"
   ]
  },
  {
   "cell_type": "code",
   "execution_count": 7,
   "metadata": {},
   "outputs": [
    {
     "data": {
      "image/png": "[encoded data removed]",
      "text/plain": [
       "<matplotlib.figure.Figure at 0x224774264e0>"
      ]
     },
     "metadata": {},
     "output_type": "display_data"
    }
   ],
   "source": [
    "z = np.arange(-4, 2, .1)\n",
    "zero = np.zeros(len(z))\n",
    "y = np.max([zero, z], axis=0)\n",
    "\n",
    "fig = plt.figure()\n",
    "ax = fig.add_subplot(111)\n",
    "ax.plot(z, y,'b')\n",
    "ax.axis([-5.5,2,-0.5,1.5])\n",
    "ax.axis('off')\n",
    "ax.set_title('Retificada Linear')\n",
    "\n",
    "#Plano x e y\n",
    "ax.arrow(-5, 0, 6.8, 0, head_width=0.052, head_length=0.12, fc='k', ec='k')\n",
    "ax.arrow(0, -0.5, 0, 1.9, head_width=0.15, head_length=0.04, fc='k', ec='k')\n",
    "\n",
    "#1 em y\n",
    "ax.arrow(-0.09, 1, 0.14, 0, head_width=0, head_length=0, fc='k', ec='k')\n",
    "ax.annotate('1', xy=(0, 0), xytext=(-0.35, 0.96))\n",
    "\n",
    "#0.5 em y\n",
    "ax.annotate('0.5', xy=(0, 0), xytext=(-0.8, 0.46))\n",
    "ax.arrow(-0.09, 0.5, 0.14, 0, head_width=0, head_length=0, fc='k', ec='k')\n",
    "\n",
    "#origem\n",
    "#ax.annotate('0', xy=(0, 0), xytext=(-0.35, -0.12))\n",
    "\n",
    "#1 em x\n",
    "ax.arrow(1, -0.025, 0, 0.05, head_width=0, head_length=0, fc='k', ec='k')\n",
    "ax.annotate('1', xy=(0, 0), xytext=(0.95, -0.12))\n",
    "\n",
    "#-1 em x\n",
    "ax.arrow(-1, -0.025, 0, 0.05, head_width=0, head_length=0, fc='k', ec='k')\n",
    "ax.annotate('-1', xy=(0, 0), xytext=(-1.16, -0.12))\n",
    "\n",
    "#-2 em x\n",
    "ax.arrow(-2, -0.025, 0, 0.05, head_width=0, head_length=0, fc='k', ec='k')\n",
    "ax.annotate('-2', xy=(0, 0), xytext=(-2.175, -0.12))\n",
    "\n",
    "#-3 em x\n",
    "ax.arrow(-3, -0.025, 0, 0.05, head_width=0, head_length=0, fc='k', ec='k')\n",
    "ax.annotate('-3', xy=(0, 0), xytext=(-3.17, -0.12))\n",
    "\n",
    "#-4 em x\n",
    "ax.arrow(-4, -0.025, 0, 0.05, head_width=0, head_length=0, fc='k', ec='k')\n",
    "ax.annotate('-4', xy=(0, 0), xytext=(-4.17, -0.12))\n",
    "\n",
    "plt.savefig('relu.png')\n",
    "plt.show()"
   ]
  },
  {
   "cell_type": "markdown",
   "metadata": {},
   "source": [
    "#### Criação do gráfico da função identidade"
   ]
  },
  {
   "cell_type": "code",
   "execution_count": 8,
   "metadata": {},
   "outputs": [
    {
     "data": {
      "image/png": "[encoded data removed]",
      "text/plain": [
       "<matplotlib.figure.Figure at 0x22477564978>"
      ]
     },
     "metadata": {},
     "output_type": "display_data"
    }
   ],
   "source": [
    "x = np.arange(-6, 6, .1)\n",
    "y = x\n",
    "\n",
    "fig = plt.figure()\n",
    "ax = fig.add_subplot(111)\n",
    "ax.plot(x, y,'b')\n",
    "ax.axis([-6,6,-6,6])\n",
    "ax.axis('off')\n",
    "ax.set_title('Identidade')\n",
    "\n",
    "#Plano x e y\n",
    "ax.arrow(-6, 0, 11.8, 0, head_width=0.4, head_length=0.15, fc='k', ec='k')\n",
    "ax.arrow(0, -6, 0, 11.6, head_width=0.2, head_length=0.3, fc='k', ec='k')\n",
    "\n",
    "#2 em y\n",
    "ax.arrow(-0.1, 2, 0.15, 0, head_width=0, head_length=0, fc='k', ec='k')\n",
    "ax.annotate('2', xy=(0, 0), xytext=(-0.5, 1.89))\n",
    "\n",
    "#4 em y\n",
    "ax.arrow(-0.1, 4, 0.15, 0, head_width=0, head_length=0, fc='k', ec='k')\n",
    "ax.annotate('4', xy=(0, 0), xytext=(-0.5, 3.79))\n",
    "\n",
    "#-2 em y\n",
    "ax.arrow(-0.1, -2, 0.15, 0, head_width=0, head_length=0, fc='k', ec='k')\n",
    "ax.annotate('-2', xy=(0, 0), xytext=(-0.5, -2.15))\n",
    "\n",
    "#-4 em y\n",
    "ax.arrow(-0.1, -4, 0.15, 0, head_width=0, head_length=0, fc='k', ec='k')\n",
    "ax.annotate('-4', xy=(0, 0), xytext=(-0.5, -4.15))\n",
    "\n",
    "#-2 em x\n",
    "ax.arrow(-2, -0.1, 0, 0.2, head_width=0, head_length=0, fc='k', ec='k')\n",
    "ax.annotate('-2', xy=(0, 0), xytext=(-2.15, -0.7))\n",
    "\n",
    "#-4 em x\n",
    "ax.arrow(-4, -0.1, 0, 0.2, head_width=0, head_length=0, fc='k', ec='k')\n",
    "ax.annotate('-4', xy=(0, 0), xytext=(-4.15, -0.7))\n",
    "\n",
    "#2 em x\n",
    "ax.arrow(2, -0.1, 0, 0.2, head_width=0, head_length=0, fc='k', ec='k')\n",
    "ax.annotate('2', xy=(0, 0), xytext=(1.9, -0.7))\n",
    "\n",
    "#4 em x\n",
    "ax.arrow(4, -0.1, 0, 0.2, head_width=0, head_length=0, fc='k', ec='k')\n",
    "ax.annotate('4', xy=(0, 0), xytext=(3.9, -0.7))\n",
    "\n",
    "plt.savefig('id.png')\n",
    "plt.show()"
   ]
  }
 ],
 "metadata": {
  "kernelspec": {
   "display_name": "Python 3",
   "language": "python",
   "name": "python3"
  },
  "language_info": {
   "codemirror_mode": {
    "name": "ipython",
    "version": 3
   },
   "file_extension": ".py",
   "mimetype": "text/x-python",
   "name": "python",
   "nbconvert_exporter": "python",
   "pygments_lexer": "ipython3",
   "version": "3.6.4"
  }
 },
 "nbformat": 4,
 "nbformat_minor": 2
}
