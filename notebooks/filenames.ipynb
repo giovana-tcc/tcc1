{
 "cells": [
  {
   "cell_type": "code",
   "execution_count": null,
   "metadata": {},
   "outputs": [],
   "source": []
  },
  {
   "cell_type": "code",
   "execution_count": 19,
   "metadata": {},
   "outputs": [
    {
     "name": "stdout",
     "output_type": "stream",
     "text": [
      "['.ipynb_checkpoints', 'filenames.ipynb', 'ILSVRC2017_test_00002750.JPEG', 'ILSVRC2017_test_00003050.JPEG', 'ILSVRC2017_test_00004050.JPEG', 'ILSVRC2017_test_00005050.JPEG', 'lista.txt']\n"
     ]
    }
   ],
   "source": [
    "arq = open('nomes.txt', 'r')\n",
    "texto = arq.read()\n",
    "arq.close()\n",
    "l = texto.replace('nomes.txt\\n','').split('\\n')\n",
    "del(l[len(l)-1])\n",
    "print(l)"
   ]
  },
  {
   "cell_type": "code",
   "execution_count": null,
   "metadata": {},
   "outputs": [],
   "source": []
  }
 ],
 "metadata": {
  "kernelspec": {
   "display_name": "Python 3",
   "language": "python",
   "name": "python3"
  },
  "language_info": {
   "codemirror_mode": {
    "name": "ipython",
    "version": 3
   },
   "file_extension": ".py",
   "mimetype": "text/x-python",
   "name": "python",
   "nbconvert_exporter": "python",
   "pygments_lexer": "ipython3",
   "version": "3.6.4"
  }
 },
 "nbformat": 4,
 "nbformat_minor": 2
}
